{
 "cells": [
  {
   "cell_type": "code",
   "execution_count": 1,
   "id": "c720321b",
   "metadata": {
    "_cell_guid": "b1076dfc-b9ad-4769-8c92-a6c4dae69d19",
    "_uuid": "8f2839f25d086af736a60e9eeb907d3b93b6e0e5",
    "execution": {
     "iopub.execute_input": "2025-02-15T15:45:08.458466Z",
     "iopub.status.busy": "2025-02-15T15:45:08.458103Z",
     "iopub.status.idle": "2025-02-15T15:45:09.489958Z",
     "shell.execute_reply": "2025-02-15T15:45:09.488460Z"
    },
    "papermill": {
     "duration": 1.043285,
     "end_time": "2025-02-15T15:45:09.492035",
     "exception": false,
     "start_time": "2025-02-15T15:45:08.448750",
     "status": "completed"
    },
    "tags": []
   },
   "outputs": [
    {
     "name": "stdout",
     "output_type": "stream",
     "text": [
      "/kaggle/input/System-Threat-Forecaster/sample_submission.csv\n",
      "/kaggle/input/System-Threat-Forecaster/train.csv\n",
      "/kaggle/input/System-Threat-Forecaster/test.csv\n",
      "/kaggle/input/milestone2/other/default/1/milstone2.ipynb\n"
     ]
    }
   ],
   "source": [
    "# This Python 3 environment comes with many helpful analytics libraries installed\n",
    "# It is defined by the kaggle/python Docker image: https://github.com/kaggle/docker-python\n",
    "# For example, here's several helpful packages to load\n",
    "\n",
    "import numpy as np # linear algebra\n",
    "import pandas as pd # data processing, CSV file I/O (e.g. pd.read_csv)\n",
    "\n",
    "# Input data files are available in the read-only \"../input/\" directory\n",
    "# For example, running this (by clicking run or pressing Shift+Enter) will list all files under the input directory\n",
    "\n",
    "import os\n",
    "for dirname, _, filenames in os.walk('/kaggle/input'):\n",
    "    for filename in filenames:\n",
    "        print(os.path.join(dirname, filename))\n",
    "\n",
    "# You can write up to 20GB to the current directory (/kaggle/working/) that gets preserved as output when you create a version using \"Save & Run All\" \n",
    "# You can also write temporary files to /kaggle/temp/, but they won't be saved outside of the current session"
   ]
  },
  {
   "cell_type": "code",
   "execution_count": 2,
   "id": "7009d5b3",
   "metadata": {
    "execution": {
     "iopub.execute_input": "2025-02-15T15:45:09.506521Z",
     "iopub.status.busy": "2025-02-15T15:45:09.506055Z",
     "iopub.status.idle": "2025-02-15T15:45:11.785661Z",
     "shell.execute_reply": "2025-02-15T15:45:11.784515Z"
    },
    "papermill": {
     "duration": 2.289527,
     "end_time": "2025-02-15T15:45:11.788051",
     "exception": false,
     "start_time": "2025-02-15T15:45:09.498524",
     "status": "completed"
    },
    "tags": []
   },
   "outputs": [
    {
     "data": {
      "text/html": [
       "<div>\n",
       "<style scoped>\n",
       "    .dataframe tbody tr th:only-of-type {\n",
       "        vertical-align: middle;\n",
       "    }\n",
       "\n",
       "    .dataframe tbody tr th {\n",
       "        vertical-align: top;\n",
       "    }\n",
       "\n",
       "    .dataframe thead th {\n",
       "        text-align: right;\n",
       "    }\n",
       "</style>\n",
       "<table border=\"1\" class=\"dataframe\">\n",
       "  <thead>\n",
       "    <tr style=\"text-align: right;\">\n",
       "      <th></th>\n",
       "      <th>MachineID</th>\n",
       "      <th>ProductName</th>\n",
       "      <th>EngineVersion</th>\n",
       "      <th>AppVersion</th>\n",
       "      <th>SignatureVersion</th>\n",
       "      <th>IsBetaUser</th>\n",
       "      <th>RealTimeProtectionState</th>\n",
       "      <th>IsPassiveModeEnabled</th>\n",
       "      <th>AntivirusConfigID</th>\n",
       "      <th>NumAntivirusProductsInstalled</th>\n",
       "      <th>...</th>\n",
       "      <th>IsSecureBootEnabled</th>\n",
       "      <th>IsVirtualDevice</th>\n",
       "      <th>IsTouchEnabled</th>\n",
       "      <th>IsPenCapable</th>\n",
       "      <th>IsAlwaysOnAlwaysConnectedCapable</th>\n",
       "      <th>IsGamer</th>\n",
       "      <th>RegionIdentifier</th>\n",
       "      <th>DateAS</th>\n",
       "      <th>DateOS</th>\n",
       "      <th>target</th>\n",
       "    </tr>\n",
       "  </thead>\n",
       "  <tbody>\n",
       "    <tr>\n",
       "      <th>0</th>\n",
       "      <td>f541bae429089117c4aac39c90dd3416</td>\n",
       "      <td>win8defender</td>\n",
       "      <td>1.1.15200.1</td>\n",
       "      <td>4.18.1807.18075</td>\n",
       "      <td>1.275.1003.0</td>\n",
       "      <td>0</td>\n",
       "      <td>7.0</td>\n",
       "      <td>0</td>\n",
       "      <td>53447.0</td>\n",
       "      <td>1.0</td>\n",
       "      <td>...</td>\n",
       "      <td>0</td>\n",
       "      <td>0.0</td>\n",
       "      <td>1</td>\n",
       "      <td>0</td>\n",
       "      <td>1.0</td>\n",
       "      <td>0.0</td>\n",
       "      <td>6.0</td>\n",
       "      <td>2018-09-10 10:11:00</td>\n",
       "      <td>2018-04-17</td>\n",
       "      <td>0</td>\n",
       "    </tr>\n",
       "    <tr>\n",
       "      <th>1</th>\n",
       "      <td>dc2b14d9ce3a0ce4050bb640190f2ca5</td>\n",
       "      <td>win8defender</td>\n",
       "      <td>1.1.15100.1</td>\n",
       "      <td>4.18.1807.18075</td>\n",
       "      <td>1.273.1465.0</td>\n",
       "      <td>0</td>\n",
       "      <td>7.0</td>\n",
       "      <td>0</td>\n",
       "      <td>53447.0</td>\n",
       "      <td>1.0</td>\n",
       "      <td>...</td>\n",
       "      <td>1</td>\n",
       "      <td>0.0</td>\n",
       "      <td>0</td>\n",
       "      <td>0</td>\n",
       "      <td>0.0</td>\n",
       "      <td>0.0</td>\n",
       "      <td>10.0</td>\n",
       "      <td>2018-08-16 00:01:00</td>\n",
       "      <td>2018-08-14</td>\n",
       "      <td>1</td>\n",
       "    </tr>\n",
       "    <tr>\n",
       "      <th>2</th>\n",
       "      <td>fd20c5f010e9c5f91ad1c6b3e0da68a0</td>\n",
       "      <td>win8defender</td>\n",
       "      <td>1.1.15200.1</td>\n",
       "      <td>4.18.1807.18075</td>\n",
       "      <td>1.275.1546.0</td>\n",
       "      <td>0</td>\n",
       "      <td>7.0</td>\n",
       "      <td>0</td>\n",
       "      <td>53447.0</td>\n",
       "      <td>1.0</td>\n",
       "      <td>...</td>\n",
       "      <td>0</td>\n",
       "      <td>0.0</td>\n",
       "      <td>0</td>\n",
       "      <td>0</td>\n",
       "      <td>0.0</td>\n",
       "      <td>1.0</td>\n",
       "      <td>6.0</td>\n",
       "      <td>2018-09-20 23:20:00</td>\n",
       "      <td>2018-09-11</td>\n",
       "      <td>1</td>\n",
       "    </tr>\n",
       "    <tr>\n",
       "      <th>3</th>\n",
       "      <td>38711eae85eb77a72ec5dfdf27eb2a76</td>\n",
       "      <td>win8defender</td>\n",
       "      <td>1.1.15200.1</td>\n",
       "      <td>4.12.17007.18011</td>\n",
       "      <td>1.275.1141.0</td>\n",
       "      <td>0</td>\n",
       "      <td>7.0</td>\n",
       "      <td>0</td>\n",
       "      <td>46413.0</td>\n",
       "      <td>2.0</td>\n",
       "      <td>...</td>\n",
       "      <td>1</td>\n",
       "      <td>0.0</td>\n",
       "      <td>0</td>\n",
       "      <td>0</td>\n",
       "      <td>0.0</td>\n",
       "      <td>0.0</td>\n",
       "      <td>12.0</td>\n",
       "      <td>2018-09-14 00:32:00</td>\n",
       "      <td>2018-01-03</td>\n",
       "      <td>1</td>\n",
       "    </tr>\n",
       "    <tr>\n",
       "      <th>4</th>\n",
       "      <td>32607c9a543a9214e2c7e45800ed4849</td>\n",
       "      <td>win8defender</td>\n",
       "      <td>1.1.15200.1</td>\n",
       "      <td>4.13.17134.228</td>\n",
       "      <td>1.275.1283.0</td>\n",
       "      <td>0</td>\n",
       "      <td>7.0</td>\n",
       "      <td>0</td>\n",
       "      <td>40466.0</td>\n",
       "      <td>2.0</td>\n",
       "      <td>...</td>\n",
       "      <td>0</td>\n",
       "      <td>0.0</td>\n",
       "      <td>0</td>\n",
       "      <td>0</td>\n",
       "      <td>0.0</td>\n",
       "      <td>1.0</td>\n",
       "      <td>7.0</td>\n",
       "      <td>2018-09-15 19:34:00</td>\n",
       "      <td>2018-09-11</td>\n",
       "      <td>0</td>\n",
       "    </tr>\n",
       "  </tbody>\n",
       "</table>\n",
       "<p>5 rows × 76 columns</p>\n",
       "</div>"
      ],
      "text/plain": [
       "                          MachineID   ProductName EngineVersion  \\\n",
       "0  f541bae429089117c4aac39c90dd3416  win8defender   1.1.15200.1   \n",
       "1  dc2b14d9ce3a0ce4050bb640190f2ca5  win8defender   1.1.15100.1   \n",
       "2  fd20c5f010e9c5f91ad1c6b3e0da68a0  win8defender   1.1.15200.1   \n",
       "3  38711eae85eb77a72ec5dfdf27eb2a76  win8defender   1.1.15200.1   \n",
       "4  32607c9a543a9214e2c7e45800ed4849  win8defender   1.1.15200.1   \n",
       "\n",
       "         AppVersion SignatureVersion  IsBetaUser  RealTimeProtectionState  \\\n",
       "0   4.18.1807.18075     1.275.1003.0           0                      7.0   \n",
       "1   4.18.1807.18075     1.273.1465.0           0                      7.0   \n",
       "2   4.18.1807.18075     1.275.1546.0           0                      7.0   \n",
       "3  4.12.17007.18011     1.275.1141.0           0                      7.0   \n",
       "4    4.13.17134.228     1.275.1283.0           0                      7.0   \n",
       "\n",
       "   IsPassiveModeEnabled  AntivirusConfigID  NumAntivirusProductsInstalled  \\\n",
       "0                     0            53447.0                            1.0   \n",
       "1                     0            53447.0                            1.0   \n",
       "2                     0            53447.0                            1.0   \n",
       "3                     0            46413.0                            2.0   \n",
       "4                     0            40466.0                            2.0   \n",
       "\n",
       "   ...  IsSecureBootEnabled  IsVirtualDevice  IsTouchEnabled  IsPenCapable  \\\n",
       "0  ...                    0              0.0               1             0   \n",
       "1  ...                    1              0.0               0             0   \n",
       "2  ...                    0              0.0               0             0   \n",
       "3  ...                    1              0.0               0             0   \n",
       "4  ...                    0              0.0               0             0   \n",
       "\n",
       "   IsAlwaysOnAlwaysConnectedCapable  IsGamer RegionIdentifier  \\\n",
       "0                               1.0      0.0              6.0   \n",
       "1                               0.0      0.0             10.0   \n",
       "2                               0.0      1.0              6.0   \n",
       "3                               0.0      0.0             12.0   \n",
       "4                               0.0      1.0              7.0   \n",
       "\n",
       "                DateAS      DateOS  target  \n",
       "0  2018-09-10 10:11:00  2018-04-17       0  \n",
       "1  2018-08-16 00:01:00  2018-08-14       1  \n",
       "2  2018-09-20 23:20:00  2018-09-11       1  \n",
       "3  2018-09-14 00:32:00  2018-01-03       1  \n",
       "4  2018-09-15 19:34:00  2018-09-11       0  \n",
       "\n",
       "[5 rows x 76 columns]"
      ]
     },
     "execution_count": 2,
     "metadata": {},
     "output_type": "execute_result"
    }
   ],
   "source": [
    "import pandas as pd\n",
    "df = pd.read_csv(\"/kaggle/input/System-Threat-Forecaster/train.csv\")\n",
    "test_data = pd.read_csv(\"/kaggle/input/System-Threat-Forecaster/test.csv\")\n",
    "sample_submission = pd.read_csv('/kaggle/input/System-Threat-Forecaster/sample_submission.csv')\n",
    "df.head()"
   ]
  },
  {
   "cell_type": "code",
   "execution_count": 3,
   "id": "74902d5d",
   "metadata": {
    "execution": {
     "iopub.execute_input": "2025-02-15T15:45:11.804138Z",
     "iopub.status.busy": "2025-02-15T15:45:11.803640Z",
     "iopub.status.idle": "2025-02-15T15:45:11.843689Z",
     "shell.execute_reply": "2025-02-15T15:45:11.842400Z"
    },
    "papermill": {
     "duration": 0.050656,
     "end_time": "2025-02-15T15:45:11.845478",
     "exception": false,
     "start_time": "2025-02-15T15:45:11.794822",
     "status": "completed"
    },
    "tags": []
   },
   "outputs": [
    {
     "data": {
      "text/plain": [
       "<bound method DataFrame.info of                               MachineID   ProductName EngineVersion  \\\n",
       "0      f541bae429089117c4aac39c90dd3416  win8defender   1.1.15200.1   \n",
       "1      dc2b14d9ce3a0ce4050bb640190f2ca5  win8defender   1.1.15100.1   \n",
       "2      fd20c5f010e9c5f91ad1c6b3e0da68a0  win8defender   1.1.15200.1   \n",
       "3      38711eae85eb77a72ec5dfdf27eb2a76  win8defender   1.1.15200.1   \n",
       "4      32607c9a543a9214e2c7e45800ed4849  win8defender   1.1.15200.1   \n",
       "...                                 ...           ...           ...   \n",
       "99995  a378b2196a7a1d8ee0d4f989ee46730e  win8defender   1.1.15200.1   \n",
       "99996  7f4433ca05d24b9bbdd3932f8b05e61f  win8defender   1.1.15100.1   \n",
       "99997  d6852dfff534e03d5ddfd3c7875ab072  win8defender   1.1.15200.1   \n",
       "99998  70a8dc682128c9ff78a3de5aea9dac74  win8defender   1.1.14901.4   \n",
       "99999  ad9c385b53f2ca788933a39603b84eda  win8defender   1.1.15000.2   \n",
       "\n",
       "             AppVersion SignatureVersion  IsBetaUser  RealTimeProtectionState  \\\n",
       "0       4.18.1807.18075     1.275.1003.0           0                      7.0   \n",
       "1       4.18.1807.18075     1.273.1465.0           0                      7.0   \n",
       "2       4.18.1807.18075     1.275.1546.0           0                      7.0   \n",
       "3      4.12.17007.18011     1.275.1141.0           0                      7.0   \n",
       "4        4.13.17134.228     1.275.1283.0           0                      7.0   \n",
       "...                 ...              ...         ...                      ...   \n",
       "99995   4.18.1807.18075     1.275.1582.0           0                      7.0   \n",
       "99996   4.18.1806.18062     1.273.1156.0           0                      7.0   \n",
       "99997   4.18.1807.18075      1.275.209.0           0                      7.0   \n",
       "99998  4.16.17656.18052      1.269.641.0           0                      7.0   \n",
       "99999   4.18.1806.18062     1.271.1003.0           0                      7.0   \n",
       "\n",
       "       IsPassiveModeEnabled  AntivirusConfigID  NumAntivirusProductsInstalled  \\\n",
       "0                         0            53447.0                            1.0   \n",
       "1                         0            53447.0                            1.0   \n",
       "2                         0            53447.0                            1.0   \n",
       "3                         0            46413.0                            2.0   \n",
       "4                         0            40466.0                            2.0   \n",
       "...                     ...                ...                            ...   \n",
       "99995                     0            68585.0                            2.0   \n",
       "99996                     0            11280.0                            2.0   \n",
       "99997                     0            53447.0                            1.0   \n",
       "99998                     0            53447.0                            1.0   \n",
       "99999                     0             7945.0                            2.0   \n",
       "\n",
       "       ...  IsSecureBootEnabled  IsVirtualDevice  IsTouchEnabled  \\\n",
       "0      ...                    0              0.0               1   \n",
       "1      ...                    1              0.0               0   \n",
       "2      ...                    0              0.0               0   \n",
       "3      ...                    1              0.0               0   \n",
       "4      ...                    0              0.0               0   \n",
       "...    ...                  ...              ...             ...   \n",
       "99995  ...                    0              0.0               0   \n",
       "99996  ...                    0              0.0               0   \n",
       "99997  ...                    1              0.0               0   \n",
       "99998  ...                    1              0.0               1   \n",
       "99999  ...                    1              0.0               0   \n",
       "\n",
       "       IsPenCapable  IsAlwaysOnAlwaysConnectedCapable  IsGamer  \\\n",
       "0                 0                               1.0      0.0   \n",
       "1                 0                               0.0      0.0   \n",
       "2                 0                               0.0      1.0   \n",
       "3                 0                               0.0      0.0   \n",
       "4                 0                               0.0      1.0   \n",
       "...             ...                               ...      ...   \n",
       "99995             0                               0.0      1.0   \n",
       "99996             0                               0.0      0.0   \n",
       "99997             0                               0.0      1.0   \n",
       "99998             1                               1.0      0.0   \n",
       "99999             0                               0.0      1.0   \n",
       "\n",
       "      RegionIdentifier               DateAS      DateOS  target  \n",
       "0                  6.0  2018-09-10 10:11:00  2018-04-17       0  \n",
       "1                 10.0  2018-08-16 00:01:00  2018-08-14       1  \n",
       "2                  6.0  2018-09-20 23:20:00  2018-09-11       1  \n",
       "3                 12.0  2018-09-14 00:32:00  2018-01-03       1  \n",
       "4                  7.0  2018-09-15 19:34:00  2018-09-11       0  \n",
       "...                ...                  ...         ...     ...  \n",
       "99995              7.0  2018-09-21 00:59:00  2018-09-20       0  \n",
       "99996              3.0  2018-08-10 07:23:00  2018-07-10       0  \n",
       "99997              1.0  2018-08-26 23:51:00  2018-03-13       1  \n",
       "99998              1.0  2018-06-04 17:13:00  2018-05-08       0  \n",
       "99999             11.0  2018-07-14 15:36:00  2018-08-14       0  \n",
       "\n",
       "[100000 rows x 76 columns]>"
      ]
     },
     "execution_count": 3,
     "metadata": {},
     "output_type": "execute_result"
    }
   ],
   "source": [
    "df.info"
   ]
  },
  {
   "cell_type": "code",
   "execution_count": 4,
   "id": "37acf0f3",
   "metadata": {
    "execution": {
     "iopub.execute_input": "2025-02-15T15:45:11.862433Z",
     "iopub.status.busy": "2025-02-15T15:45:11.862055Z",
     "iopub.status.idle": "2025-02-15T15:45:11.866031Z",
     "shell.execute_reply": "2025-02-15T15:45:11.864994Z"
    },
    "papermill": {
     "duration": 0.013417,
     "end_time": "2025-02-15T15:45:11.867691",
     "exception": false,
     "start_time": "2025-02-15T15:45:11.854274",
     "status": "completed"
    },
    "tags": []
   },
   "outputs": [],
   "source": [
    "#df =df.dropna(subset=['target'])\n",
    "#df.info()"
   ]
  },
  {
   "cell_type": "code",
   "execution_count": 5,
   "id": "59946acd",
   "metadata": {
    "execution": {
     "iopub.execute_input": "2025-02-15T15:45:11.883138Z",
     "iopub.status.busy": "2025-02-15T15:45:11.882746Z",
     "iopub.status.idle": "2025-02-15T15:45:14.396772Z",
     "shell.execute_reply": "2025-02-15T15:45:14.395606Z"
    },
    "papermill": {
     "duration": 2.524118,
     "end_time": "2025-02-15T15:45:14.398576",
     "exception": false,
     "start_time": "2025-02-15T15:45:11.874458",
     "status": "completed"
    },
    "tags": []
   },
   "outputs": [
    {
     "name": "stdout",
     "output_type": "stream",
     "text": [
      "Missing values handled successfully!\n"
     ]
    }
   ],
   "source": [
    "from sklearn.impute import SimpleImputer\n",
    "\n",
    "# Identify numerical and categorical columns\n",
    "num_cols = df.select_dtypes(include=['int64', 'float64']).columns\n",
    "cat_cols = df.select_dtypes(include=['object']).columns\n",
    "num_cols = num_cols.drop('target', errors='ignore')\n",
    "\n",
    "# Impute numerical columns with mean\n",
    "imputer_num = SimpleImputer(strategy='mean')\n",
    "df[num_cols] = imputer_num.fit_transform(df[num_cols])\n",
    "test_data[num_cols] = imputer_num.transform(test_data[num_cols])\n",
    "\n",
    "# Impute categorical columns with most frequent value\n",
    "imputer_cat = SimpleImputer(strategy='most_frequent')\n",
    "df[cat_cols] = imputer_cat.fit_transform(df[cat_cols])\n",
    "test_data[cat_cols] = imputer_cat.transform(test_data[cat_cols])\n",
    "\n",
    "print(\"Missing values handled successfully!\")"
   ]
  },
  {
   "cell_type": "code",
   "execution_count": 6,
   "id": "61cf7568",
   "metadata": {
    "execution": {
     "iopub.execute_input": "2025-02-15T15:45:14.413702Z",
     "iopub.status.busy": "2025-02-15T15:45:14.413231Z",
     "iopub.status.idle": "2025-02-15T15:45:14.472114Z",
     "shell.execute_reply": "2025-02-15T15:45:14.471011Z"
    },
    "papermill": {
     "duration": 0.068711,
     "end_time": "2025-02-15T15:45:14.474227",
     "exception": false,
     "start_time": "2025-02-15T15:45:14.405516",
     "status": "completed"
    },
    "tags": []
   },
   "outputs": [],
   "source": [
    "df['DateAS'] = pd.to_datetime(df['DateAS']).dt.month\n",
    "df['DateOS'] = pd.to_datetime(df['DateOS']).dt.month\n",
    "test_data['DateAS'] = pd.to_datetime(test_data['DateAS']).dt.month\n",
    "test_data['DateOS'] = pd.to_datetime(test_data['DateOS']).dt.month"
   ]
  },
  {
   "cell_type": "code",
   "execution_count": 7,
   "id": "45189b6e",
   "metadata": {
    "execution": {
     "iopub.execute_input": "2025-02-15T15:45:14.490428Z",
     "iopub.status.busy": "2025-02-15T15:45:14.490076Z",
     "iopub.status.idle": "2025-02-15T15:45:14.780121Z",
     "shell.execute_reply": "2025-02-15T15:45:14.778811Z"
    },
    "papermill": {
     "duration": 0.300921,
     "end_time": "2025-02-15T15:45:14.782125",
     "exception": false,
     "start_time": "2025-02-15T15:45:14.481204",
     "status": "completed"
    },
    "tags": []
   },
   "outputs": [
    {
     "data": {
      "text/plain": [
       "(100000, 73)"
      ]
     },
     "execution_count": 7,
     "metadata": {},
     "output_type": "execute_result"
    }
   ],
   "source": [
    "cardinality = df.nunique().sort_values(ascending=False)\n",
    "\n",
    "low_cardinality = cardinality[cardinality == 1].index.tolist()\n",
    "df = df.drop(columns=low_cardinality)\n",
    "test_data = test_data.drop(columns=low_cardinality)\n",
    "df.shape"
   ]
  },
  {
   "cell_type": "code",
   "execution_count": 8,
   "id": "b12ab16e",
   "metadata": {
    "execution": {
     "iopub.execute_input": "2025-02-15T15:45:14.797845Z",
     "iopub.status.busy": "2025-02-15T15:45:14.797492Z",
     "iopub.status.idle": "2025-02-15T15:45:15.673522Z",
     "shell.execute_reply": "2025-02-15T15:45:15.672418Z"
    },
    "papermill": {
     "duration": 0.885791,
     "end_time": "2025-02-15T15:45:15.675369",
     "exception": false,
     "start_time": "2025-02-15T15:45:14.789578",
     "status": "completed"
    },
    "tags": []
   },
   "outputs": [
    {
     "data": {
      "text/html": [
       "<div>\n",
       "<style scoped>\n",
       "    .dataframe tbody tr th:only-of-type {\n",
       "        vertical-align: middle;\n",
       "    }\n",
       "\n",
       "    .dataframe tbody tr th {\n",
       "        vertical-align: top;\n",
       "    }\n",
       "\n",
       "    .dataframe thead th {\n",
       "        text-align: right;\n",
       "    }\n",
       "</style>\n",
       "<table border=\"1\" class=\"dataframe\">\n",
       "  <thead>\n",
       "    <tr style=\"text-align: right;\">\n",
       "      <th></th>\n",
       "      <th>MachineID</th>\n",
       "      <th>EngineVersion</th>\n",
       "      <th>AppVersion</th>\n",
       "      <th>SignatureVersion</th>\n",
       "      <th>RealTimeProtectionState</th>\n",
       "      <th>IsPassiveModeEnabled</th>\n",
       "      <th>AntivirusConfigID</th>\n",
       "      <th>NumAntivirusProductsInstalled</th>\n",
       "      <th>NumAntivirusProductsEnabled</th>\n",
       "      <th>HasTpm</th>\n",
       "      <th>...</th>\n",
       "      <th>LicenseActivationChannel_Retail</th>\n",
       "      <th>LicenseActivationChannel_Retail:TB:Eval</th>\n",
       "      <th>LicenseActivationChannel_Volume:GVLK</th>\n",
       "      <th>LicenseActivationChannel_Volume:MAK</th>\n",
       "      <th>FlightRing_NOT_SET</th>\n",
       "      <th>FlightRing_RP</th>\n",
       "      <th>FlightRing_Retail</th>\n",
       "      <th>FlightRing_Unknown</th>\n",
       "      <th>FlightRing_WIF</th>\n",
       "      <th>FlightRing_WIS</th>\n",
       "    </tr>\n",
       "  </thead>\n",
       "  <tbody>\n",
       "    <tr>\n",
       "      <th>0</th>\n",
       "      <td>f541bae429089117c4aac39c90dd3416</td>\n",
       "      <td>1.1.15200.1</td>\n",
       "      <td>4.18.1807.18075</td>\n",
       "      <td>1.275.1003.0</td>\n",
       "      <td>7.0</td>\n",
       "      <td>0.0</td>\n",
       "      <td>53447.0</td>\n",
       "      <td>1.0</td>\n",
       "      <td>1.0</td>\n",
       "      <td>1.0</td>\n",
       "      <td>...</td>\n",
       "      <td>True</td>\n",
       "      <td>False</td>\n",
       "      <td>False</td>\n",
       "      <td>False</td>\n",
       "      <td>False</td>\n",
       "      <td>False</td>\n",
       "      <td>True</td>\n",
       "      <td>False</td>\n",
       "      <td>False</td>\n",
       "      <td>False</td>\n",
       "    </tr>\n",
       "    <tr>\n",
       "      <th>1</th>\n",
       "      <td>dc2b14d9ce3a0ce4050bb640190f2ca5</td>\n",
       "      <td>1.1.15100.1</td>\n",
       "      <td>4.18.1807.18075</td>\n",
       "      <td>1.273.1465.0</td>\n",
       "      <td>7.0</td>\n",
       "      <td>0.0</td>\n",
       "      <td>53447.0</td>\n",
       "      <td>1.0</td>\n",
       "      <td>1.0</td>\n",
       "      <td>1.0</td>\n",
       "      <td>...</td>\n",
       "      <td>False</td>\n",
       "      <td>False</td>\n",
       "      <td>False</td>\n",
       "      <td>False</td>\n",
       "      <td>False</td>\n",
       "      <td>False</td>\n",
       "      <td>True</td>\n",
       "      <td>False</td>\n",
       "      <td>False</td>\n",
       "      <td>False</td>\n",
       "    </tr>\n",
       "    <tr>\n",
       "      <th>2</th>\n",
       "      <td>fd20c5f010e9c5f91ad1c6b3e0da68a0</td>\n",
       "      <td>1.1.15200.1</td>\n",
       "      <td>4.18.1807.18075</td>\n",
       "      <td>1.275.1546.0</td>\n",
       "      <td>7.0</td>\n",
       "      <td>0.0</td>\n",
       "      <td>53447.0</td>\n",
       "      <td>1.0</td>\n",
       "      <td>1.0</td>\n",
       "      <td>1.0</td>\n",
       "      <td>...</td>\n",
       "      <td>False</td>\n",
       "      <td>False</td>\n",
       "      <td>False</td>\n",
       "      <td>False</td>\n",
       "      <td>False</td>\n",
       "      <td>False</td>\n",
       "      <td>True</td>\n",
       "      <td>False</td>\n",
       "      <td>False</td>\n",
       "      <td>False</td>\n",
       "    </tr>\n",
       "    <tr>\n",
       "      <th>3</th>\n",
       "      <td>38711eae85eb77a72ec5dfdf27eb2a76</td>\n",
       "      <td>1.1.15200.1</td>\n",
       "      <td>4.12.17007.18011</td>\n",
       "      <td>1.275.1141.0</td>\n",
       "      <td>7.0</td>\n",
       "      <td>0.0</td>\n",
       "      <td>46413.0</td>\n",
       "      <td>2.0</td>\n",
       "      <td>1.0</td>\n",
       "      <td>1.0</td>\n",
       "      <td>...</td>\n",
       "      <td>False</td>\n",
       "      <td>False</td>\n",
       "      <td>False</td>\n",
       "      <td>False</td>\n",
       "      <td>False</td>\n",
       "      <td>False</td>\n",
       "      <td>True</td>\n",
       "      <td>False</td>\n",
       "      <td>False</td>\n",
       "      <td>False</td>\n",
       "    </tr>\n",
       "    <tr>\n",
       "      <th>4</th>\n",
       "      <td>32607c9a543a9214e2c7e45800ed4849</td>\n",
       "      <td>1.1.15200.1</td>\n",
       "      <td>4.13.17134.228</td>\n",
       "      <td>1.275.1283.0</td>\n",
       "      <td>7.0</td>\n",
       "      <td>0.0</td>\n",
       "      <td>40466.0</td>\n",
       "      <td>2.0</td>\n",
       "      <td>1.0</td>\n",
       "      <td>1.0</td>\n",
       "      <td>...</td>\n",
       "      <td>True</td>\n",
       "      <td>False</td>\n",
       "      <td>False</td>\n",
       "      <td>False</td>\n",
       "      <td>False</td>\n",
       "      <td>False</td>\n",
       "      <td>True</td>\n",
       "      <td>False</td>\n",
       "      <td>False</td>\n",
       "      <td>False</td>\n",
       "    </tr>\n",
       "    <tr>\n",
       "      <th>...</th>\n",
       "      <td>...</td>\n",
       "      <td>...</td>\n",
       "      <td>...</td>\n",
       "      <td>...</td>\n",
       "      <td>...</td>\n",
       "      <td>...</td>\n",
       "      <td>...</td>\n",
       "      <td>...</td>\n",
       "      <td>...</td>\n",
       "      <td>...</td>\n",
       "      <td>...</td>\n",
       "      <td>...</td>\n",
       "      <td>...</td>\n",
       "      <td>...</td>\n",
       "      <td>...</td>\n",
       "      <td>...</td>\n",
       "      <td>...</td>\n",
       "      <td>...</td>\n",
       "      <td>...</td>\n",
       "      <td>...</td>\n",
       "      <td>...</td>\n",
       "    </tr>\n",
       "    <tr>\n",
       "      <th>99995</th>\n",
       "      <td>a378b2196a7a1d8ee0d4f989ee46730e</td>\n",
       "      <td>1.1.15200.1</td>\n",
       "      <td>4.18.1807.18075</td>\n",
       "      <td>1.275.1582.0</td>\n",
       "      <td>7.0</td>\n",
       "      <td>0.0</td>\n",
       "      <td>68585.0</td>\n",
       "      <td>2.0</td>\n",
       "      <td>1.0</td>\n",
       "      <td>1.0</td>\n",
       "      <td>...</td>\n",
       "      <td>True</td>\n",
       "      <td>False</td>\n",
       "      <td>False</td>\n",
       "      <td>False</td>\n",
       "      <td>False</td>\n",
       "      <td>False</td>\n",
       "      <td>True</td>\n",
       "      <td>False</td>\n",
       "      <td>False</td>\n",
       "      <td>False</td>\n",
       "    </tr>\n",
       "    <tr>\n",
       "      <th>99996</th>\n",
       "      <td>7f4433ca05d24b9bbdd3932f8b05e61f</td>\n",
       "      <td>1.1.15100.1</td>\n",
       "      <td>4.18.1806.18062</td>\n",
       "      <td>1.273.1156.0</td>\n",
       "      <td>7.0</td>\n",
       "      <td>0.0</td>\n",
       "      <td>11280.0</td>\n",
       "      <td>2.0</td>\n",
       "      <td>1.0</td>\n",
       "      <td>1.0</td>\n",
       "      <td>...</td>\n",
       "      <td>True</td>\n",
       "      <td>False</td>\n",
       "      <td>False</td>\n",
       "      <td>False</td>\n",
       "      <td>False</td>\n",
       "      <td>False</td>\n",
       "      <td>True</td>\n",
       "      <td>False</td>\n",
       "      <td>False</td>\n",
       "      <td>False</td>\n",
       "    </tr>\n",
       "    <tr>\n",
       "      <th>99997</th>\n",
       "      <td>d6852dfff534e03d5ddfd3c7875ab072</td>\n",
       "      <td>1.1.15200.1</td>\n",
       "      <td>4.18.1807.18075</td>\n",
       "      <td>1.275.209.0</td>\n",
       "      <td>7.0</td>\n",
       "      <td>0.0</td>\n",
       "      <td>53447.0</td>\n",
       "      <td>1.0</td>\n",
       "      <td>1.0</td>\n",
       "      <td>1.0</td>\n",
       "      <td>...</td>\n",
       "      <td>False</td>\n",
       "      <td>False</td>\n",
       "      <td>False</td>\n",
       "      <td>False</td>\n",
       "      <td>False</td>\n",
       "      <td>False</td>\n",
       "      <td>True</td>\n",
       "      <td>False</td>\n",
       "      <td>False</td>\n",
       "      <td>False</td>\n",
       "    </tr>\n",
       "    <tr>\n",
       "      <th>99998</th>\n",
       "      <td>70a8dc682128c9ff78a3de5aea9dac74</td>\n",
       "      <td>1.1.14901.4</td>\n",
       "      <td>4.16.17656.18052</td>\n",
       "      <td>1.269.641.0</td>\n",
       "      <td>7.0</td>\n",
       "      <td>0.0</td>\n",
       "      <td>53447.0</td>\n",
       "      <td>1.0</td>\n",
       "      <td>1.0</td>\n",
       "      <td>1.0</td>\n",
       "      <td>...</td>\n",
       "      <td>False</td>\n",
       "      <td>False</td>\n",
       "      <td>False</td>\n",
       "      <td>False</td>\n",
       "      <td>False</td>\n",
       "      <td>False</td>\n",
       "      <td>False</td>\n",
       "      <td>True</td>\n",
       "      <td>False</td>\n",
       "      <td>False</td>\n",
       "    </tr>\n",
       "    <tr>\n",
       "      <th>99999</th>\n",
       "      <td>ad9c385b53f2ca788933a39603b84eda</td>\n",
       "      <td>1.1.15000.2</td>\n",
       "      <td>4.18.1806.18062</td>\n",
       "      <td>1.271.1003.0</td>\n",
       "      <td>7.0</td>\n",
       "      <td>0.0</td>\n",
       "      <td>7945.0</td>\n",
       "      <td>2.0</td>\n",
       "      <td>1.0</td>\n",
       "      <td>1.0</td>\n",
       "      <td>...</td>\n",
       "      <td>False</td>\n",
       "      <td>False</td>\n",
       "      <td>False</td>\n",
       "      <td>False</td>\n",
       "      <td>False</td>\n",
       "      <td>False</td>\n",
       "      <td>True</td>\n",
       "      <td>False</td>\n",
       "      <td>False</td>\n",
       "      <td>False</td>\n",
       "    </tr>\n",
       "  </tbody>\n",
       "</table>\n",
       "<p>100000 rows × 126 columns</p>\n",
       "</div>"
      ],
      "text/plain": [
       "                              MachineID EngineVersion        AppVersion  \\\n",
       "0      f541bae429089117c4aac39c90dd3416   1.1.15200.1   4.18.1807.18075   \n",
       "1      dc2b14d9ce3a0ce4050bb640190f2ca5   1.1.15100.1   4.18.1807.18075   \n",
       "2      fd20c5f010e9c5f91ad1c6b3e0da68a0   1.1.15200.1   4.18.1807.18075   \n",
       "3      38711eae85eb77a72ec5dfdf27eb2a76   1.1.15200.1  4.12.17007.18011   \n",
       "4      32607c9a543a9214e2c7e45800ed4849   1.1.15200.1    4.13.17134.228   \n",
       "...                                 ...           ...               ...   \n",
       "99995  a378b2196a7a1d8ee0d4f989ee46730e   1.1.15200.1   4.18.1807.18075   \n",
       "99996  7f4433ca05d24b9bbdd3932f8b05e61f   1.1.15100.1   4.18.1806.18062   \n",
       "99997  d6852dfff534e03d5ddfd3c7875ab072   1.1.15200.1   4.18.1807.18075   \n",
       "99998  70a8dc682128c9ff78a3de5aea9dac74   1.1.14901.4  4.16.17656.18052   \n",
       "99999  ad9c385b53f2ca788933a39603b84eda   1.1.15000.2   4.18.1806.18062   \n",
       "\n",
       "      SignatureVersion  RealTimeProtectionState  IsPassiveModeEnabled  \\\n",
       "0         1.275.1003.0                      7.0                   0.0   \n",
       "1         1.273.1465.0                      7.0                   0.0   \n",
       "2         1.275.1546.0                      7.0                   0.0   \n",
       "3         1.275.1141.0                      7.0                   0.0   \n",
       "4         1.275.1283.0                      7.0                   0.0   \n",
       "...                ...                      ...                   ...   \n",
       "99995     1.275.1582.0                      7.0                   0.0   \n",
       "99996     1.273.1156.0                      7.0                   0.0   \n",
       "99997      1.275.209.0                      7.0                   0.0   \n",
       "99998      1.269.641.0                      7.0                   0.0   \n",
       "99999     1.271.1003.0                      7.0                   0.0   \n",
       "\n",
       "       AntivirusConfigID  NumAntivirusProductsInstalled  \\\n",
       "0                53447.0                            1.0   \n",
       "1                53447.0                            1.0   \n",
       "2                53447.0                            1.0   \n",
       "3                46413.0                            2.0   \n",
       "4                40466.0                            2.0   \n",
       "...                  ...                            ...   \n",
       "99995            68585.0                            2.0   \n",
       "99996            11280.0                            2.0   \n",
       "99997            53447.0                            1.0   \n",
       "99998            53447.0                            1.0   \n",
       "99999             7945.0                            2.0   \n",
       "\n",
       "       NumAntivirusProductsEnabled  HasTpm  ...  \\\n",
       "0                              1.0     1.0  ...   \n",
       "1                              1.0     1.0  ...   \n",
       "2                              1.0     1.0  ...   \n",
       "3                              1.0     1.0  ...   \n",
       "4                              1.0     1.0  ...   \n",
       "...                            ...     ...  ...   \n",
       "99995                          1.0     1.0  ...   \n",
       "99996                          1.0     1.0  ...   \n",
       "99997                          1.0     1.0  ...   \n",
       "99998                          1.0     1.0  ...   \n",
       "99999                          1.0     1.0  ...   \n",
       "\n",
       "       LicenseActivationChannel_Retail  \\\n",
       "0                                 True   \n",
       "1                                False   \n",
       "2                                False   \n",
       "3                                False   \n",
       "4                                 True   \n",
       "...                                ...   \n",
       "99995                             True   \n",
       "99996                             True   \n",
       "99997                            False   \n",
       "99998                            False   \n",
       "99999                            False   \n",
       "\n",
       "       LicenseActivationChannel_Retail:TB:Eval  \\\n",
       "0                                        False   \n",
       "1                                        False   \n",
       "2                                        False   \n",
       "3                                        False   \n",
       "4                                        False   \n",
       "...                                        ...   \n",
       "99995                                    False   \n",
       "99996                                    False   \n",
       "99997                                    False   \n",
       "99998                                    False   \n",
       "99999                                    False   \n",
       "\n",
       "       LicenseActivationChannel_Volume:GVLK  \\\n",
       "0                                     False   \n",
       "1                                     False   \n",
       "2                                     False   \n",
       "3                                     False   \n",
       "4                                     False   \n",
       "...                                     ...   \n",
       "99995                                 False   \n",
       "99996                                 False   \n",
       "99997                                 False   \n",
       "99998                                 False   \n",
       "99999                                 False   \n",
       "\n",
       "       LicenseActivationChannel_Volume:MAK  FlightRing_NOT_SET  FlightRing_RP  \\\n",
       "0                                    False               False          False   \n",
       "1                                    False               False          False   \n",
       "2                                    False               False          False   \n",
       "3                                    False               False          False   \n",
       "4                                    False               False          False   \n",
       "...                                    ...                 ...            ...   \n",
       "99995                                False               False          False   \n",
       "99996                                False               False          False   \n",
       "99997                                False               False          False   \n",
       "99998                                False               False          False   \n",
       "99999                                False               False          False   \n",
       "\n",
       "      FlightRing_Retail  FlightRing_Unknown  FlightRing_WIF  FlightRing_WIS  \n",
       "0                  True               False           False           False  \n",
       "1                  True               False           False           False  \n",
       "2                  True               False           False           False  \n",
       "3                  True               False           False           False  \n",
       "4                  True               False           False           False  \n",
       "...                 ...                 ...             ...             ...  \n",
       "99995              True               False           False           False  \n",
       "99996              True               False           False           False  \n",
       "99997              True               False           False           False  \n",
       "99998             False                True           False           False  \n",
       "99999              True               False           False           False  \n",
       "\n",
       "[100000 rows x 126 columns]"
      ]
     },
     "execution_count": 8,
     "metadata": {},
     "output_type": "execute_result"
    }
   ],
   "source": [
    "categorical_cols = df.select_dtypes(include=['object']).columns\n",
    "\n",
    "selected_features = [col for col in categorical_cols if df[col].nunique() <= 10]\n",
    "high_cardinality_features = [col for col in categorical_cols if df[col].nunique() > 10]\n",
    "df = pd.get_dummies(df, columns=selected_features, drop_first=True)\n",
    "test_data= pd.get_dummies(test_data, columns=selected_features, drop_first=True)\n",
    "df"
   ]
  },
  {
   "cell_type": "code",
   "execution_count": 9,
   "id": "6f468f1a",
   "metadata": {
    "execution": {
     "iopub.execute_input": "2025-02-15T15:45:15.692372Z",
     "iopub.status.busy": "2025-02-15T15:45:15.692027Z",
     "iopub.status.idle": "2025-02-15T15:45:16.255785Z",
     "shell.execute_reply": "2025-02-15T15:45:16.254732Z"
    },
    "papermill": {
     "duration": 0.574236,
     "end_time": "2025-02-15T15:45:16.257451",
     "exception": false,
     "start_time": "2025-02-15T15:45:15.683215",
     "status": "completed"
    },
    "tags": []
   },
   "outputs": [
    {
     "data": {
      "text/html": [
       "<div>\n",
       "<style scoped>\n",
       "    .dataframe tbody tr th:only-of-type {\n",
       "        vertical-align: middle;\n",
       "    }\n",
       "\n",
       "    .dataframe tbody tr th {\n",
       "        vertical-align: top;\n",
       "    }\n",
       "\n",
       "    .dataframe thead th {\n",
       "        text-align: right;\n",
       "    }\n",
       "</style>\n",
       "<table border=\"1\" class=\"dataframe\">\n",
       "  <thead>\n",
       "    <tr style=\"text-align: right;\">\n",
       "      <th></th>\n",
       "      <th>MachineID</th>\n",
       "      <th>EngineVersion</th>\n",
       "      <th>AppVersion</th>\n",
       "      <th>SignatureVersion</th>\n",
       "      <th>RealTimeProtectionState</th>\n",
       "      <th>IsPassiveModeEnabled</th>\n",
       "      <th>AntivirusConfigID</th>\n",
       "      <th>NumAntivirusProductsInstalled</th>\n",
       "      <th>NumAntivirusProductsEnabled</th>\n",
       "      <th>HasTpm</th>\n",
       "      <th>...</th>\n",
       "      <th>LicenseActivationChannel_Retail</th>\n",
       "      <th>LicenseActivationChannel_Retail:TB:Eval</th>\n",
       "      <th>LicenseActivationChannel_Volume:GVLK</th>\n",
       "      <th>LicenseActivationChannel_Volume:MAK</th>\n",
       "      <th>FlightRing_NOT_SET</th>\n",
       "      <th>FlightRing_RP</th>\n",
       "      <th>FlightRing_Retail</th>\n",
       "      <th>FlightRing_Unknown</th>\n",
       "      <th>FlightRing_WIF</th>\n",
       "      <th>FlightRing_WIS</th>\n",
       "    </tr>\n",
       "  </thead>\n",
       "  <tbody>\n",
       "    <tr>\n",
       "      <th>0</th>\n",
       "      <td>95607</td>\n",
       "      <td>34</td>\n",
       "      <td>31</td>\n",
       "      <td>2218</td>\n",
       "      <td>7.0</td>\n",
       "      <td>0.0</td>\n",
       "      <td>53447.0</td>\n",
       "      <td>1.0</td>\n",
       "      <td>1.0</td>\n",
       "      <td>1.0</td>\n",
       "      <td>...</td>\n",
       "      <td>True</td>\n",
       "      <td>False</td>\n",
       "      <td>False</td>\n",
       "      <td>False</td>\n",
       "      <td>False</td>\n",
       "      <td>False</td>\n",
       "      <td>True</td>\n",
       "      <td>False</td>\n",
       "      <td>False</td>\n",
       "      <td>False</td>\n",
       "    </tr>\n",
       "    <tr>\n",
       "      <th>1</th>\n",
       "      <td>85800</td>\n",
       "      <td>33</td>\n",
       "      <td>31</td>\n",
       "      <td>1906</td>\n",
       "      <td>7.0</td>\n",
       "      <td>0.0</td>\n",
       "      <td>53447.0</td>\n",
       "      <td>1.0</td>\n",
       "      <td>1.0</td>\n",
       "      <td>1.0</td>\n",
       "      <td>...</td>\n",
       "      <td>False</td>\n",
       "      <td>False</td>\n",
       "      <td>False</td>\n",
       "      <td>False</td>\n",
       "      <td>False</td>\n",
       "      <td>False</td>\n",
       "      <td>True</td>\n",
       "      <td>False</td>\n",
       "      <td>False</td>\n",
       "      <td>False</td>\n",
       "    </tr>\n",
       "    <tr>\n",
       "      <th>2</th>\n",
       "      <td>98689</td>\n",
       "      <td>34</td>\n",
       "      <td>31</td>\n",
       "      <td>2331</td>\n",
       "      <td>7.0</td>\n",
       "      <td>0.0</td>\n",
       "      <td>53447.0</td>\n",
       "      <td>1.0</td>\n",
       "      <td>1.0</td>\n",
       "      <td>1.0</td>\n",
       "      <td>...</td>\n",
       "      <td>False</td>\n",
       "      <td>False</td>\n",
       "      <td>False</td>\n",
       "      <td>False</td>\n",
       "      <td>False</td>\n",
       "      <td>False</td>\n",
       "      <td>True</td>\n",
       "      <td>False</td>\n",
       "      <td>False</td>\n",
       "      <td>False</td>\n",
       "    </tr>\n",
       "    <tr>\n",
       "      <th>3</th>\n",
       "      <td>21877</td>\n",
       "      <td>34</td>\n",
       "      <td>17</td>\n",
       "      <td>2253</td>\n",
       "      <td>7.0</td>\n",
       "      <td>0.0</td>\n",
       "      <td>46413.0</td>\n",
       "      <td>2.0</td>\n",
       "      <td>1.0</td>\n",
       "      <td>1.0</td>\n",
       "      <td>...</td>\n",
       "      <td>False</td>\n",
       "      <td>False</td>\n",
       "      <td>False</td>\n",
       "      <td>False</td>\n",
       "      <td>False</td>\n",
       "      <td>False</td>\n",
       "      <td>True</td>\n",
       "      <td>False</td>\n",
       "      <td>False</td>\n",
       "      <td>False</td>\n",
       "    </tr>\n",
       "    <tr>\n",
       "      <th>4</th>\n",
       "      <td>19567</td>\n",
       "      <td>34</td>\n",
       "      <td>22</td>\n",
       "      <td>2265</td>\n",
       "      <td>7.0</td>\n",
       "      <td>0.0</td>\n",
       "      <td>40466.0</td>\n",
       "      <td>2.0</td>\n",
       "      <td>1.0</td>\n",
       "      <td>1.0</td>\n",
       "      <td>...</td>\n",
       "      <td>True</td>\n",
       "      <td>False</td>\n",
       "      <td>False</td>\n",
       "      <td>False</td>\n",
       "      <td>False</td>\n",
       "      <td>False</td>\n",
       "      <td>True</td>\n",
       "      <td>False</td>\n",
       "      <td>False</td>\n",
       "      <td>False</td>\n",
       "    </tr>\n",
       "  </tbody>\n",
       "</table>\n",
       "<p>5 rows × 126 columns</p>\n",
       "</div>"
      ],
      "text/plain": [
       "   MachineID  EngineVersion  AppVersion  SignatureVersion  \\\n",
       "0      95607             34          31              2218   \n",
       "1      85800             33          31              1906   \n",
       "2      98689             34          31              2331   \n",
       "3      21877             34          17              2253   \n",
       "4      19567             34          22              2265   \n",
       "\n",
       "   RealTimeProtectionState  IsPassiveModeEnabled  AntivirusConfigID  \\\n",
       "0                      7.0                   0.0            53447.0   \n",
       "1                      7.0                   0.0            53447.0   \n",
       "2                      7.0                   0.0            53447.0   \n",
       "3                      7.0                   0.0            46413.0   \n",
       "4                      7.0                   0.0            40466.0   \n",
       "\n",
       "   NumAntivirusProductsInstalled  NumAntivirusProductsEnabled  HasTpm  ...  \\\n",
       "0                            1.0                          1.0     1.0  ...   \n",
       "1                            1.0                          1.0     1.0  ...   \n",
       "2                            1.0                          1.0     1.0  ...   \n",
       "3                            2.0                          1.0     1.0  ...   \n",
       "4                            2.0                          1.0     1.0  ...   \n",
       "\n",
       "   LicenseActivationChannel_Retail  LicenseActivationChannel_Retail:TB:Eval  \\\n",
       "0                             True                                    False   \n",
       "1                            False                                    False   \n",
       "2                            False                                    False   \n",
       "3                            False                                    False   \n",
       "4                             True                                    False   \n",
       "\n",
       "   LicenseActivationChannel_Volume:GVLK  LicenseActivationChannel_Volume:MAK  \\\n",
       "0                                 False                                False   \n",
       "1                                 False                                False   \n",
       "2                                 False                                False   \n",
       "3                                 False                                False   \n",
       "4                                 False                                False   \n",
       "\n",
       "   FlightRing_NOT_SET  FlightRing_RP  FlightRing_Retail  FlightRing_Unknown  \\\n",
       "0               False          False               True               False   \n",
       "1               False          False               True               False   \n",
       "2               False          False               True               False   \n",
       "3               False          False               True               False   \n",
       "4               False          False               True               False   \n",
       "\n",
       "   FlightRing_WIF  FlightRing_WIS  \n",
       "0           False           False  \n",
       "1           False           False  \n",
       "2           False           False  \n",
       "3           False           False  \n",
       "4           False           False  \n",
       "\n",
       "[5 rows x 126 columns]"
      ]
     },
     "execution_count": 9,
     "metadata": {},
     "output_type": "execute_result"
    }
   ],
   "source": [
    "from sklearn.preprocessing import LabelEncoder\n",
    "encoder = LabelEncoder()\n",
    "for col in high_cardinality_features:\n",
    "    # Apply Label Encoding\n",
    "    df[col] = encoder.fit_transform(df[col])\n",
    "    test_data[col] = encoder.fit_transform(test_data[col]) \n",
    "\n",
    "# Display the transformed dataset\n",
    "df.head()"
   ]
  },
  {
   "cell_type": "code",
   "execution_count": 10,
   "id": "5bc8bced",
   "metadata": {
    "execution": {
     "iopub.execute_input": "2025-02-15T15:45:16.274633Z",
     "iopub.status.busy": "2025-02-15T15:45:16.274309Z",
     "iopub.status.idle": "2025-02-15T15:45:16.428458Z",
     "shell.execute_reply": "2025-02-15T15:45:16.427347Z"
    },
    "papermill": {
     "duration": 0.165071,
     "end_time": "2025-02-15T15:45:16.430508",
     "exception": false,
     "start_time": "2025-02-15T15:45:16.265437",
     "status": "completed"
    },
    "tags": []
   },
   "outputs": [],
   "source": [
    "num_cols = df.select_dtypes(include=['int64','int32','float64']).columns.drop('target', errors='ignore')\n",
    "from sklearn.preprocessing import MinMaxScaler\n",
    "scaler = MinMaxScaler()\n",
    "df[num_cols] = scaler.fit_transform(df[num_cols])\n",
    "test_data[num_cols] = scaler.fit_transform(test_data[num_cols]) "
   ]
  },
  {
   "cell_type": "code",
   "execution_count": 11,
   "id": "81c84fe0",
   "metadata": {
    "execution": {
     "iopub.execute_input": "2025-02-15T15:45:16.447462Z",
     "iopub.status.busy": "2025-02-15T15:45:16.447116Z",
     "iopub.status.idle": "2025-02-15T15:45:16.475477Z",
     "shell.execute_reply": "2025-02-15T15:45:16.474387Z"
    },
    "papermill": {
     "duration": 0.038831,
     "end_time": "2025-02-15T15:45:16.477304",
     "exception": false,
     "start_time": "2025-02-15T15:45:16.438473",
     "status": "completed"
    },
    "tags": []
   },
   "outputs": [],
   "source": [
    "df= df.drop(columns=list(set(df.columns)-(set(test_data.columns)|{'target'})), axis=1)"
   ]
  },
  {
   "cell_type": "code",
   "execution_count": 12,
   "id": "179f4f94",
   "metadata": {
    "execution": {
     "iopub.execute_input": "2025-02-15T15:45:16.494317Z",
     "iopub.status.busy": "2025-02-15T15:45:16.493975Z",
     "iopub.status.idle": "2025-02-15T15:45:16.499736Z",
     "shell.execute_reply": "2025-02-15T15:45:16.498774Z"
    },
    "papermill": {
     "duration": 0.016131,
     "end_time": "2025-02-15T15:45:16.501472",
     "exception": false,
     "start_time": "2025-02-15T15:45:16.485341",
     "status": "completed"
    },
    "tags": []
   },
   "outputs": [],
   "source": [
    "from sklearn.preprocessing import LabelEncoder\n",
    "\n",
    "# Automatically identify categorical columns\n",
    "categorical_cols = df.select_dtypes(include=['object']).columns\n",
    "test_categorical_cols = test_data.select_dtypes(include=['object']).columns\n",
    "\n",
    "# Apply Label Encoding\n",
    "encoder = LabelEncoder()\n",
    "for col in categorical_cols:\n",
    "    df[col] = encoder.fit_transform(df[col])\n",
    "for col in test_categorical_cols:\n",
    "    test_data[col] = encoder.fit_transform(test_data[col])    "
   ]
  },
  {
   "cell_type": "code",
   "execution_count": 13,
   "id": "f729bff7",
   "metadata": {
    "execution": {
     "iopub.execute_input": "2025-02-15T15:45:16.518855Z",
     "iopub.status.busy": "2025-02-15T15:45:16.518474Z",
     "iopub.status.idle": "2025-02-15T15:45:16.660389Z",
     "shell.execute_reply": "2025-02-15T15:45:16.659501Z"
    },
    "papermill": {
     "duration": 0.152652,
     "end_time": "2025-02-15T15:45:16.662332",
     "exception": false,
     "start_time": "2025-02-15T15:45:16.509680",
     "status": "completed"
    },
    "tags": []
   },
   "outputs": [],
   "source": [
    "from sklearn.model_selection import train_test_split\n",
    "X = df.drop(columns=['target'])   # Features\n",
    "y = df['target']     # Target column\n",
    "X_train, X_test, y_train, y_test = train_test_split(X, y, test_size=0.2, random_state=42)"
   ]
  },
  {
   "cell_type": "code",
   "execution_count": 14,
   "id": "d7aaf52e",
   "metadata": {
    "execution": {
     "iopub.execute_input": "2025-02-15T15:45:16.679792Z",
     "iopub.status.busy": "2025-02-15T15:45:16.679448Z",
     "iopub.status.idle": "2025-02-15T15:45:24.347542Z",
     "shell.execute_reply": "2025-02-15T15:45:24.346432Z"
    },
    "papermill": {
     "duration": 7.678983,
     "end_time": "2025-02-15T15:45:24.349487",
     "exception": false,
     "start_time": "2025-02-15T15:45:16.670504",
     "status": "completed"
    },
    "tags": []
   },
   "outputs": [
    {
     "name": "stdout",
     "output_type": "stream",
     "text": [
      "Accuracy: 0.6134\n"
     ]
    }
   ],
   "source": [
    "from xgboost import XGBClassifier\n",
    "from sklearn.metrics import accuracy_score\n",
    "\n",
    "# Initialize the XGBoost classifier\n",
    "xgb = XGBClassifier(n_estimators=500, random_state=42)\n",
    "\n",
    "# Train the model\n",
    "xgb.fit(X_train, y_train)\n",
    "y_pred_xgb = xgb.predict(X_test)\n",
    "accuracy = accuracy_score(y_test, y_pred_xgb)\n",
    "print(f\"Accuracy: {accuracy:.4f}\")"
   ]
  },
  {
   "cell_type": "code",
   "execution_count": 15,
   "id": "e1309e7f",
   "metadata": {
    "execution": {
     "iopub.execute_input": "2025-02-15T15:45:24.367113Z",
     "iopub.status.busy": "2025-02-15T15:45:24.366729Z",
     "iopub.status.idle": "2025-02-15T15:45:24.377858Z",
     "shell.execute_reply": "2025-02-15T15:45:24.376452Z"
    },
    "papermill": {
     "duration": 0.022153,
     "end_time": "2025-02-15T15:45:24.379872",
     "exception": false,
     "start_time": "2025-02-15T15:45:24.357719",
     "status": "completed"
    },
    "tags": []
   },
   "outputs": [],
   "source": [
    "test_data = test_data[X.columns]"
   ]
  },
  {
   "cell_type": "code",
   "execution_count": 16,
   "id": "6308fbd4",
   "metadata": {
    "execution": {
     "iopub.execute_input": "2025-02-15T15:45:24.398036Z",
     "iopub.status.busy": "2025-02-15T15:45:24.397600Z",
     "iopub.status.idle": "2025-02-15T15:45:24.401449Z",
     "shell.execute_reply": "2025-02-15T15:45:24.400415Z"
    },
    "papermill": {
     "duration": 0.014867,
     "end_time": "2025-02-15T15:45:24.403165",
     "exception": false,
     "start_time": "2025-02-15T15:45:24.388298",
     "status": "completed"
    },
    "tags": []
   },
   "outputs": [],
   "source": [
    "#Q1 = df.target.quantile(0.25)\n",
    "#Q3 = df.target.quantile(0.75)\n",
    "#IQR = Q3 - Q1\n",
    "#df = df[(df.target >= (Q1 - 1.5*IQR)) & (df.target <= (Q3+1.5*IQR))]"
   ]
  },
  {
   "cell_type": "code",
   "execution_count": 17,
   "id": "6417f458",
   "metadata": {
    "execution": {
     "iopub.execute_input": "2025-02-15T15:45:24.421387Z",
     "iopub.status.busy": "2025-02-15T15:45:24.421006Z",
     "iopub.status.idle": "2025-02-15T15:50:55.869058Z",
     "shell.execute_reply": "2025-02-15T15:50:55.867906Z"
    },
    "jupyter": {
     "source_hidden": true
    },
    "papermill": {
     "duration": 331.465893,
     "end_time": "2025-02-15T15:50:55.877419",
     "exception": false,
     "start_time": "2025-02-15T15:45:24.411526",
     "status": "completed"
    },
    "tags": []
   },
   "outputs": [
    {
     "name": "stdout",
     "output_type": "stream",
     "text": [
      "Train R²: 0.15471716969612193\n",
      "Test R²: 0.06256203899530544\n",
      "Train MAE: 0.4095271149876729\n",
      "Test MAE: 0.43389510589320934\n",
      "Train MSE: 0.21129925733547153\n",
      "Test MSE: 0.23432460818464465\n"
     ]
    }
   ],
   "source": [
    "from sklearn.ensemble import GradientBoostingRegressor\n",
    "from sklearn.metrics import mean_absolute_error, mean_squared_error, r2_score\n",
    "model = GradientBoostingRegressor(\n",
    "    n_estimators=550,\n",
    "    learning_rate=0.05,\n",
    "    max_depth=5,\n",
    "    min_samples_split=10,\n",
    "    min_samples_leaf=5,\n",
    "    subsample=0.8,\n",
    "    max_features=0.8,\n",
    "    loss='huber',\n",
    "    alpha=0.75,\n",
    ")\n",
    "model.fit(X_train, y_train)\n",
    "y_pred_train = model.predict(X_train)\n",
    "y_pred_test = model.predict(X_test)\n",
    "# Train performance\n",
    "train_r2 = r2_score(y_train, y_pred_train)\n",
    "train_mae = mean_absolute_error(y_train, y_pred_train)\n",
    "train_mse = mean_squared_error(y_train, y_pred_train)\n",
    "\n",
    "# Test performance\n",
    "test_r2 = r2_score(y_test, y_pred_test)\n",
    "test_mae = mean_absolute_error(y_test, y_pred_test)\n",
    "test_mse = mean_squared_error(y_test, y_pred_test)\n",
    "\n",
    "print(f\"Train R²: {train_r2}\")\n",
    "print(f\"Test R²: {test_r2}\")\n",
    "print(f\"Train MAE: {train_mae}\")\n",
    "print(f\"Test MAE: {test_mae}\")\n",
    "print(f\"Train MSE: {train_mse}\")\n",
    "print(f\"Test MSE: {test_mse}\")"
   ]
  },
  {
   "cell_type": "code",
   "execution_count": 18,
   "id": "11884a3a",
   "metadata": {
    "execution": {
     "iopub.execute_input": "2025-02-15T15:50:55.895741Z",
     "iopub.status.busy": "2025-02-15T15:50:55.895335Z",
     "iopub.status.idle": "2025-02-15T15:50:55.899493Z",
     "shell.execute_reply": "2025-02-15T15:50:55.898195Z"
    },
    "papermill": {
     "duration": 0.015403,
     "end_time": "2025-02-15T15:50:55.901520",
     "exception": false,
     "start_time": "2025-02-15T15:50:55.886117",
     "status": "completed"
    },
    "tags": []
   },
   "outputs": [],
   "source": [
    "#import pandas as pd\n",
    "#df = pd.read_csv(\"/kaggle/input/System-Threat-Forecaster/train.csv\")\n",
    "#df_copy = df.copy()"
   ]
  },
  {
   "cell_type": "code",
   "execution_count": 19,
   "id": "b3e6aae8",
   "metadata": {
    "execution": {
     "iopub.execute_input": "2025-02-15T15:50:55.920741Z",
     "iopub.status.busy": "2025-02-15T15:50:55.920340Z",
     "iopub.status.idle": "2025-02-15T15:50:55.924215Z",
     "shell.execute_reply": "2025-02-15T15:50:55.923021Z"
    },
    "papermill": {
     "duration": 0.015139,
     "end_time": "2025-02-15T15:50:55.926276",
     "exception": false,
     "start_time": "2025-02-15T15:50:55.911137",
     "status": "completed"
    },
    "tags": []
   },
   "outputs": [],
   "source": [
    "#constant_columns = df.nunique()[df.nunique() == 1]\n",
    "#print(constant_columns)"
   ]
  },
  {
   "cell_type": "code",
   "execution_count": 20,
   "id": "1f6d3c87",
   "metadata": {
    "execution": {
     "iopub.execute_input": "2025-02-15T15:50:55.944489Z",
     "iopub.status.busy": "2025-02-15T15:50:55.944113Z",
     "iopub.status.idle": "2025-02-15T15:50:55.948116Z",
     "shell.execute_reply": "2025-02-15T15:50:55.947031Z"
    },
    "papermill": {
     "duration": 0.014724,
     "end_time": "2025-02-15T15:50:55.949639",
     "exception": false,
     "start_time": "2025-02-15T15:50:55.934915",
     "status": "completed"
    },
    "tags": []
   },
   "outputs": [],
   "source": [
    "#import pandas as pd\n",
    "#df = pd.read_csv(\"/kaggle/input/System-Threat-Forecaster/train.csv\")\n",
    "#test_data = pd.read_csv(\"/kaggle/input/System-Threat-Forecaster/train.csv\")\n",
    "#sample_submission = pd.read_csv('/kaggle/input/System-Threat-Forecaster/sample_submission.csv')\n",
    "#df.head()\n"
   ]
  },
  {
   "cell_type": "code",
   "execution_count": 21,
   "id": "c7e2fe3e",
   "metadata": {
    "execution": {
     "iopub.execute_input": "2025-02-15T15:50:55.970727Z",
     "iopub.status.busy": "2025-02-15T15:50:55.970347Z",
     "iopub.status.idle": "2025-02-15T15:50:55.974318Z",
     "shell.execute_reply": "2025-02-15T15:50:55.973196Z"
    },
    "papermill": {
     "duration": 0.016778,
     "end_time": "2025-02-15T15:50:55.976170",
     "exception": false,
     "start_time": "2025-02-15T15:50:55.959392",
     "status": "completed"
    },
    "tags": []
   },
   "outputs": [],
   "source": [
    "#df =df.dropna(subset=['target'])\n",
    "#df.info()\n",
    "\n"
   ]
  },
  {
   "cell_type": "code",
   "execution_count": 22,
   "id": "ec525ff1",
   "metadata": {
    "execution": {
     "iopub.execute_input": "2025-02-15T15:50:55.994733Z",
     "iopub.status.busy": "2025-02-15T15:50:55.994392Z",
     "iopub.status.idle": "2025-02-15T15:50:55.998377Z",
     "shell.execute_reply": "2025-02-15T15:50:55.997327Z"
    },
    "papermill": {
     "duration": 0.015659,
     "end_time": "2025-02-15T15:50:56.000314",
     "exception": false,
     "start_time": "2025-02-15T15:50:55.984655",
     "status": "completed"
    },
    "tags": []
   },
   "outputs": [],
   "source": [
    "#Q1 = df.target.quantile(0.25)\n",
    "#Q3 = df.target.quantile(0.75)\n",
    "#IQR = Q3 - Q1\n",
    "#df = df[(df.target >= (Q1 - 1.5*IQR)) & (df.target <= (Q3+1.5*IQR))]"
   ]
  },
  {
   "cell_type": "code",
   "execution_count": 23,
   "id": "cdf3c1a5",
   "metadata": {
    "execution": {
     "iopub.execute_input": "2025-02-15T15:50:56.018663Z",
     "iopub.status.busy": "2025-02-15T15:50:56.018253Z",
     "iopub.status.idle": "2025-02-15T15:50:56.022919Z",
     "shell.execute_reply": "2025-02-15T15:50:56.021992Z"
    },
    "papermill": {
     "duration": 0.015742,
     "end_time": "2025-02-15T15:50:56.024604",
     "exception": false,
     "start_time": "2025-02-15T15:50:56.008862",
     "status": "completed"
    },
    "tags": []
   },
   "outputs": [],
   "source": [
    "#from sklearn.ensemble import GradientBoostingRegressor\n",
    "#from sklearn.metrics import mean_absolute_error, mean_squared_error, r2_score\n",
    "#model = GradientBoostingRegressor(\n",
    "  #  n_estimators=550,\n",
    "   # learning_rate=0.05,\n",
    "  #  max_depth=5,\n",
    "  #  min_samples_split=10,\n",
    "   # min_samples_leaf=5,\n",
    "  #  subsample=0.8,\n",
    "  #  max_features=0.8,\n",
    "  #  loss='huber',\n",
    "  #  alpha=0.75,\n",
    "#)\n",
    "#model.fit(X_train, y_train)\n",
    "#y_pred_train = model.predict(X_train)\n",
    "#y_pred_test = model.predict(X_test)\n",
    "# Train performance\n",
    "#train_r2 = r2_score(y_train, y_pred_train)\n",
    "#train_mae = mean_absolute_error(y_train, y_pred_train)\n",
    "#train_mse = mean_squared_error(y_train, y_pred_train)\n",
    "#\n",
    "# Test performance\n",
    "#test_r2 = r2_score(y_test, y_pred_test)\n",
    "#test_mae = mean_absolute_error(y_test, y_pred_test)\n",
    "#test_mse = mean_squared_error(y_test, y_pred_test)\n",
    "#\n",
    "#print(f\"Train R²: {train_r2}\")\n",
    "#print(f\"Test R²: {test_r2}\")\n",
    "#print(f\"Train MAE: {train_mae}\")\n",
    "#print(f\"Test MAE: {test_mae}\")\n",
    "#print(f\"Train MSE: {train_mse}\")\n",
    "#print(f\"Test MSE: {test_mse}\")"
   ]
  },
  {
   "cell_type": "code",
   "execution_count": 24,
   "id": "615faf4b",
   "metadata": {
    "execution": {
     "iopub.execute_input": "2025-02-15T15:50:56.042868Z",
     "iopub.status.busy": "2025-02-15T15:50:56.042462Z",
     "iopub.status.idle": "2025-02-15T15:50:56.254453Z",
     "shell.execute_reply": "2025-02-15T15:50:56.253292Z"
    },
    "jupyter": {
     "source_hidden": true
    },
    "papermill": {
     "duration": 0.222767,
     "end_time": "2025-02-15T15:50:56.256094",
     "exception": false,
     "start_time": "2025-02-15T15:50:56.033327",
     "status": "completed"
    },
    "tags": []
   },
   "outputs": [
    {
     "name": "stdout",
     "output_type": "stream",
     "text": [
      "Submission file created.\n"
     ]
    }
   ],
   "source": [
    "test_predictions = model.predict(test_data)  # Generate predictions\n",
    "\n",
    "# Create submission DataFrame (Ensure sample_submission exists)\n",
    "submission = sample_submission.copy()\n",
    "submission['target'] = test_predictions  \n",
    "\n",
    "# If classification-like labels are needed (Assuming binary case)\n",
    "# Ensure model output is properly rounded or thresholded\n",
    "submission['target'] = submission['target'].apply(lambda x: '1' if x > 0.5 else '0')\n",
    "\n",
    "# Save to CSV\n",
    "submission.to_csv('submission.csv', index=False)\n",
    "\n",
    "# Output file ready for submission\n",
    "print(\"Submission file created.\")"
   ]
  },
  {
   "cell_type": "code",
   "execution_count": 25,
   "id": "bb44a0f5",
   "metadata": {
    "execution": {
     "iopub.execute_input": "2025-02-15T15:50:56.274475Z",
     "iopub.status.busy": "2025-02-15T15:50:56.274149Z",
     "iopub.status.idle": "2025-02-15T15:50:56.278075Z",
     "shell.execute_reply": "2025-02-15T15:50:56.276988Z"
    },
    "papermill": {
     "duration": 0.01496,
     "end_time": "2025-02-15T15:50:56.279747",
     "exception": false,
     "start_time": "2025-02-15T15:50:56.264787",
     "status": "completed"
    },
    "tags": []
   },
   "outputs": [],
   "source": [
    "#if 'PrimaryDisplayResolutionHorizontal' in df.columns and 'PrimaryDisplayResolutionVertical' in df.columns:\n",
    "    #resolution_count = df[(df['PrimaryDisplayResolutionHorizontal'] == 1366) & (df['PrimaryDisplayResolutionVertical'] == 768)].shape[0]\n",
    "   # print(f'Number of systems with a screen resolution of 1366 x 768: {resolution_count}')\n",
    "#else:\n",
    "  #  print('Columns for horizontal and vertical resolution not found in the dataset.')"
   ]
  },
  {
   "cell_type": "code",
   "execution_count": 26,
   "id": "184b9dcb",
   "metadata": {
    "execution": {
     "iopub.execute_input": "2025-02-15T15:50:56.298046Z",
     "iopub.status.busy": "2025-02-15T15:50:56.297584Z",
     "iopub.status.idle": "2025-02-15T15:50:56.301516Z",
     "shell.execute_reply": "2025-02-15T15:50:56.300432Z"
    },
    "papermill": {
     "duration": 0.014912,
     "end_time": "2025-02-15T15:50:56.303287",
     "exception": false,
     "start_time": "2025-02-15T15:50:56.288375",
     "status": "completed"
    },
    "tags": []
   },
   "outputs": [],
   "source": [
    "# Filter the dataset for gamers with malware detected\n",
    "#gamer_malware_count = df[(df['IsGamer'] == 1) & (df['target'] == 1)].shape[0]\n",
    "\n",
    "#print(f'Number of systems owned by gamers where malware was detected: {gamer_malware_count}')"
   ]
  },
  {
   "cell_type": "code",
   "execution_count": 27,
   "id": "bf73634c",
   "metadata": {
    "execution": {
     "iopub.execute_input": "2025-02-15T15:50:56.321580Z",
     "iopub.status.busy": "2025-02-15T15:50:56.321263Z",
     "iopub.status.idle": "2025-02-15T15:50:56.325128Z",
     "shell.execute_reply": "2025-02-15T15:50:56.324117Z"
    },
    "papermill": {
     "duration": 0.01476,
     "end_time": "2025-02-15T15:50:56.326708",
     "exception": false,
     "start_time": "2025-02-15T15:50:56.311948",
     "status": "completed"
    },
    "tags": []
   },
   "outputs": [],
   "source": [
    "#df =pd.read_csv(\"/kaggle/input/System-Threat-Forecaster/train.csv\")\n"
   ]
  },
  {
   "cell_type": "code",
   "execution_count": 28,
   "id": "84f88349",
   "metadata": {
    "execution": {
     "iopub.execute_input": "2025-02-15T15:50:56.345163Z",
     "iopub.status.busy": "2025-02-15T15:50:56.344763Z",
     "iopub.status.idle": "2025-02-15T15:50:56.348730Z",
     "shell.execute_reply": "2025-02-15T15:50:56.347711Z"
    },
    "papermill": {
     "duration": 0.01509,
     "end_time": "2025-02-15T15:50:56.350434",
     "exception": false,
     "start_time": "2025-02-15T15:50:56.335344",
     "status": "completed"
    },
    "tags": []
   },
   "outputs": [],
   "source": [
    "#X_test =pd.read_csv(\"/kaggle/input/System-Threat-Forecaster/test.csv\")"
   ]
  },
  {
   "cell_type": "code",
   "execution_count": 29,
   "id": "fdb0e7ae",
   "metadata": {
    "execution": {
     "iopub.execute_input": "2025-02-15T15:50:56.368872Z",
     "iopub.status.busy": "2025-02-15T15:50:56.368513Z",
     "iopub.status.idle": "2025-02-15T15:50:56.372548Z",
     "shell.execute_reply": "2025-02-15T15:50:56.371275Z"
    },
    "papermill": {
     "duration": 0.014995,
     "end_time": "2025-02-15T15:50:56.374146",
     "exception": false,
     "start_time": "2025-02-15T15:50:56.359151",
     "status": "completed"
    },
    "tags": []
   },
   "outputs": [],
   "source": [
    "#import pandas as pd  \n",
    "\n",
    "\n",
    "#df = pd.read_csv(\"/kaggle/input/System-Threat-Forecaster/train.csv\")\n",
    "\n",
    "\n",
    "#df_clean = df.dropna()\n",
    "\n",
    "\n",
    "\n"
   ]
  },
  {
   "cell_type": "code",
   "execution_count": 30,
   "id": "d8d94c93",
   "metadata": {
    "execution": {
     "iopub.execute_input": "2025-02-15T15:50:56.393460Z",
     "iopub.status.busy": "2025-02-15T15:50:56.393118Z",
     "iopub.status.idle": "2025-02-15T15:50:56.397152Z",
     "shell.execute_reply": "2025-02-15T15:50:56.396022Z"
    },
    "papermill": {
     "duration": 0.015292,
     "end_time": "2025-02-15T15:50:56.398783",
     "exception": false,
     "start_time": "2025-02-15T15:50:56.383491",
     "status": "completed"
    },
    "tags": []
   },
   "outputs": [],
   "source": [
    "#X =df.drop(\"target\", axis =1)\n",
    "#y =df[\"target\"]"
   ]
  },
  {
   "cell_type": "code",
   "execution_count": 31,
   "id": "738895b9",
   "metadata": {
    "execution": {
     "iopub.execute_input": "2025-02-15T15:50:56.418659Z",
     "iopub.status.busy": "2025-02-15T15:50:56.418268Z",
     "iopub.status.idle": "2025-02-15T15:50:56.423242Z",
     "shell.execute_reply": "2025-02-15T15:50:56.421961Z"
    },
    "papermill": {
     "duration": 0.016664,
     "end_time": "2025-02-15T15:50:56.425035",
     "exception": false,
     "start_time": "2025-02-15T15:50:56.408371",
     "status": "completed"
    },
    "tags": []
   },
   "outputs": [],
   "source": [
    "#from sklearn.dummy import DummyClassifier\n",
    "#model =DummyClassifier().fit(X,y)\n",
    "#y_pred =model.predict(X_test)"
   ]
  },
  {
   "cell_type": "code",
   "execution_count": 32,
   "id": "a2453fbd",
   "metadata": {
    "execution": {
     "iopub.execute_input": "2025-02-15T15:50:56.444292Z",
     "iopub.status.busy": "2025-02-15T15:50:56.443937Z",
     "iopub.status.idle": "2025-02-15T15:50:56.447661Z",
     "shell.execute_reply": "2025-02-15T15:50:56.446796Z"
    },
    "papermill": {
     "duration": 0.015409,
     "end_time": "2025-02-15T15:50:56.449259",
     "exception": false,
     "start_time": "2025-02-15T15:50:56.433850",
     "status": "completed"
    },
    "tags": []
   },
   "outputs": [],
   "source": [
    "#submission =pd.DataFrame({\"id\": range(0,X_test.shape[0]),\n",
    "\n",
    "#\"target\": y_pred})\n",
    "\n",
    "#submission.to_csv('submission.csv', index =False)\n"
   ]
  },
  {
   "cell_type": "code",
   "execution_count": 33,
   "id": "8cf40de1",
   "metadata": {
    "execution": {
     "iopub.execute_input": "2025-02-15T15:50:56.468407Z",
     "iopub.status.busy": "2025-02-15T15:50:56.468081Z",
     "iopub.status.idle": "2025-02-15T15:50:56.472262Z",
     "shell.execute_reply": "2025-02-15T15:50:56.471031Z"
    },
    "papermill": {
     "duration": 0.015634,
     "end_time": "2025-02-15T15:50:56.474000",
     "exception": false,
     "start_time": "2025-02-15T15:50:56.458366",
     "status": "completed"
    },
    "tags": []
   },
   "outputs": [],
   "source": [
    "#import pandas as pd  \n",
    "\n",
    "# Load the dataset\n",
    "#train_df = pd.read_csv(\"/kaggle/input/System-Threat-Forecaster/train.csv\")\n",
    "\n",
    "# Drop rows with missing values\n",
    "#train_clean = train_df.dropna()\n",
    "\n",
    "# Now, you can proceed with calculations\n",
    "#max_antivirus = train_clean[\"NumAntivirusProductsInstalled\"].max()\n",
    "#print(\"Max NumAntivirusProductsInstalled:\", max_antivirus)\n"
   ]
  },
  {
   "cell_type": "code",
   "execution_count": 34,
   "id": "02e1599c",
   "metadata": {
    "execution": {
     "iopub.execute_input": "2025-02-15T15:50:56.494104Z",
     "iopub.status.busy": "2025-02-15T15:50:56.493701Z",
     "iopub.status.idle": "2025-02-15T15:50:56.497770Z",
     "shell.execute_reply": "2025-02-15T15:50:56.496722Z"
    },
    "papermill": {
     "duration": 0.016411,
     "end_time": "2025-02-15T15:50:56.499650",
     "exception": false,
     "start_time": "2025-02-15T15:50:56.483239",
     "status": "completed"
    },
    "tags": []
   },
   "outputs": [],
   "source": [
    "#if \"OSVersion\" in train_clean.columns:\n",
    "   # unique_os_versions = train_clean[\"OSVersion\"].nunique()\n",
    "  #  print(\"Unique Operating System Versions:\", unique_os_versions)\n",
    "#else:\n",
    "   # print(\"Column 'OperatingSystemVersion' not found. Check column names.\")\n",
    "    "
   ]
  },
  {
   "cell_type": "code",
   "execution_count": 35,
   "id": "30dacf48",
   "metadata": {
    "execution": {
     "iopub.execute_input": "2025-02-15T15:50:56.519361Z",
     "iopub.status.busy": "2025-02-15T15:50:56.519010Z",
     "iopub.status.idle": "2025-02-15T15:50:56.523021Z",
     "shell.execute_reply": "2025-02-15T15:50:56.521927Z"
    },
    "papermill": {
     "duration": 0.015567,
     "end_time": "2025-02-15T15:50:56.524741",
     "exception": false,
     "start_time": "2025-02-15T15:50:56.509174",
     "status": "completed"
    },
    "tags": []
   },
   "outputs": [],
   "source": [
    "#median_ram = train_clean[\"TotalPhysicalRAMMB\"].median()\n",
    "#print(\"50th Percentile (Median) TotalPhysicalRAMMB:\", median_ram)\n"
   ]
  },
  {
   "cell_type": "code",
   "execution_count": 36,
   "id": "48f6006f",
   "metadata": {
    "execution": {
     "iopub.execute_input": "2025-02-15T15:50:56.544116Z",
     "iopub.status.busy": "2025-02-15T15:50:56.543714Z",
     "iopub.status.idle": "2025-02-15T15:50:56.547341Z",
     "shell.execute_reply": "2025-02-15T15:50:56.546374Z"
    },
    "papermill": {
     "duration": 0.015212,
     "end_time": "2025-02-15T15:50:56.548976",
     "exception": false,
     "start_time": "2025-02-15T15:50:56.533764",
     "status": "completed"
    },
    "tags": []
   },
   "outputs": [],
   "source": [
    "#most_frequent_rtps = train_clean[train_clean[\"IsPassiveModeEnabled\"] == 1][\"RealTimeProtectionState\"].mode()[0]\n",
    "#print(\"Most Frequent RealTimeProtectionState when IsPassiveModeEnabled = 1:\", most_frequent_rtps)\n"
   ]
  },
  {
   "cell_type": "code",
   "execution_count": 37,
   "id": "2a2535c2",
   "metadata": {
    "execution": {
     "iopub.execute_input": "2025-02-15T15:50:56.568548Z",
     "iopub.status.busy": "2025-02-15T15:50:56.568176Z",
     "iopub.status.idle": "2025-02-15T15:50:56.571962Z",
     "shell.execute_reply": "2025-02-15T15:50:56.571021Z"
    },
    "papermill": {
     "duration": 0.01538,
     "end_time": "2025-02-15T15:50:56.573596",
     "exception": false,
     "start_time": "2025-02-15T15:50:56.558216",
     "status": "completed"
    },
    "tags": []
   },
   "outputs": [],
   "source": [
    "#import matplotlib.pyplot as plt  \n",
    "#import seaborn as sns  \n",
    "\n",
    "# Distribution of RAM\n",
    "#plt.figure(figsize=(8, 5))\n",
    "#sns.histplot(train_clean[\"TotalPhysicalRAMMB\"], bins=30, kde=True)\n",
    "#plt.title(\"Distribution of Total Physical RAM (MB)\")\n",
    "#plt.show()\n"
   ]
  },
  {
   "cell_type": "code",
   "execution_count": 38,
   "id": "6e3b9d3a",
   "metadata": {
    "execution": {
     "iopub.execute_input": "2025-02-15T15:50:56.593252Z",
     "iopub.status.busy": "2025-02-15T15:50:56.592909Z",
     "iopub.status.idle": "2025-02-15T15:50:56.596669Z",
     "shell.execute_reply": "2025-02-15T15:50:56.595713Z"
    },
    "papermill": {
     "duration": 0.015212,
     "end_time": "2025-02-15T15:50:56.598357",
     "exception": false,
     "start_time": "2025-02-15T15:50:56.583145",
     "status": "completed"
    },
    "tags": []
   },
   "outputs": [],
   "source": [
    "#plt.figure(figsize=(10, 5))\n",
    "#sns.heatmap(train_df.isnull(), cmap=\"viridis\", cbar=False, yticklabels=False)\n",
    "#plt.title(\"Missing Values in the Dataset\")\n",
    "#plt.show()\n"
   ]
  },
  {
   "cell_type": "code",
   "execution_count": 39,
   "id": "e091ca8e",
   "metadata": {
    "execution": {
     "iopub.execute_input": "2025-02-15T15:50:56.617751Z",
     "iopub.status.busy": "2025-02-15T15:50:56.617419Z",
     "iopub.status.idle": "2025-02-15T15:50:56.621035Z",
     "shell.execute_reply": "2025-02-15T15:50:56.620049Z"
    },
    "papermill": {
     "duration": 0.015051,
     "end_time": "2025-02-15T15:50:56.622656",
     "exception": false,
     "start_time": "2025-02-15T15:50:56.607605",
     "status": "completed"
    },
    "tags": []
   },
   "outputs": [],
   "source": [
    "#plt.figure(figsize=(12, 6))\n",
    "#sns.countplot(data=train_clean, x=\"OSVersion\", order=train_clean[\"OSVersion\"].value_counts().index[:10])\n",
    "#plt.xticks(rotation=90)\n",
    "#plt.title(\"Top 10 Operating System Versions in Dataset\")\n",
    "#plt.show()\n"
   ]
  }
 ],
 "metadata": {
  "kaggle": {
   "accelerator": "none",
   "dataSources": [
    {
     "databundleVersionId": 10592855,
     "sourceId": 90791,
     "sourceType": "competition"
    },
    {
     "isSourceIdPinned": true,
     "modelId": 242771,
     "modelInstanceId": 220995,
     "sourceId": 258552,
     "sourceType": "modelInstanceVersion"
    }
   ],
   "dockerImageVersionId": 30839,
   "isGpuEnabled": false,
   "isInternetEnabled": false,
   "language": "python",
   "sourceType": "notebook"
  },
  "kernelspec": {
   "display_name": "Python 3",
   "language": "python",
   "name": "python3"
  },
  "language_info": {
   "codemirror_mode": {
    "name": "ipython",
    "version": 3
   },
   "file_extension": ".py",
   "mimetype": "text/x-python",
   "name": "python",
   "nbconvert_exporter": "python",
   "pygments_lexer": "ipython3",
   "version": "3.10.12"
  },
  "papermill": {
   "default_parameters": {},
   "duration": 351.839494,
   "end_time": "2025-02-15T15:50:57.353392",
   "environment_variables": {},
   "exception": null,
   "input_path": "__notebook__.ipynb",
   "output_path": "__notebook__.ipynb",
   "parameters": {},
   "start_time": "2025-02-15T15:45:05.513898",
   "version": "2.6.0"
  }
 },
 "nbformat": 4,
 "nbformat_minor": 5
}
