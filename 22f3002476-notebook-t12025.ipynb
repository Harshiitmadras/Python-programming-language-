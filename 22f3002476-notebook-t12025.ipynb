{
 "cells": [
  {
   "cell_type": "code",
   "execution_count": 1,
   "id": "51b8992a",
   "metadata": {
    "_cell_guid": "b1076dfc-b9ad-4769-8c92-a6c4dae69d19",
    "_uuid": "8f2839f25d086af736a60e9eeb907d3b93b6e0e5",
    "execution": {
     "iopub.execute_input": "2025-02-15T16:13:51.013554Z",
     "iopub.status.busy": "2025-02-15T16:13:51.013052Z",
     "iopub.status.idle": "2025-02-15T16:13:51.969110Z",
     "shell.execute_reply": "2025-02-15T16:13:51.967856Z"
    },
    "papermill": {
     "duration": 0.968105,
     "end_time": "2025-02-15T16:13:51.971066",
     "exception": false,
     "start_time": "2025-02-15T16:13:51.002961",
     "status": "completed"
    },
    "tags": []
   },
   "outputs": [
    {
     "name": "stdout",
     "output_type": "stream",
     "text": [
      "/kaggle/input/System-Threat-Forecaster/sample_submission.csv\n",
      "/kaggle/input/System-Threat-Forecaster/train.csv\n",
      "/kaggle/input/System-Threat-Forecaster/test.csv\n",
      "/kaggle/input/milestone2/other/default/1/milstone2.ipynb\n"
     ]
    }
   ],
   "source": [
    "# This Python 3 environment comes with many helpful analytics libraries installed\n",
    "# It is defined by the kaggle/python Docker image: https://github.com/kaggle/docker-python\n",
    "# For example, here's several helpful packages to load\n",
    "\n",
    "import numpy as np # linear algebra\n",
    "import pandas as pd # data processing, CSV file I/O (e.g. pd.read_csv)\n",
    "\n",
    "# Input data files are available in the read-only \"../input/\" directory\n",
    "# For example, running this (by clicking run or pressing Shift+Enter) will list all files under the input directory\n",
    "\n",
    "import os\n",
    "for dirname, _, filenames in os.walk('/kaggle/input'):\n",
    "    for filename in filenames:\n",
    "        print(os.path.join(dirname, filename))\n",
    "\n",
    "# You can write up to 20GB to the current directory (/kaggle/working/) that gets preserved as output when you create a version using \"Save & Run All\" \n",
    "# You can also write temporary files to /kaggle/temp/, but they won't be saved outside of the current session"
   ]
  },
  {
   "cell_type": "code",
   "execution_count": 2,
   "id": "8d891f89",
   "metadata": {
    "execution": {
     "iopub.execute_input": "2025-02-15T16:13:51.987912Z",
     "iopub.status.busy": "2025-02-15T16:13:51.987386Z",
     "iopub.status.idle": "2025-02-15T16:13:53.973648Z",
     "shell.execute_reply": "2025-02-15T16:13:53.972545Z"
    },
    "papermill": {
     "duration": 1.995954,
     "end_time": "2025-02-15T16:13:53.975233",
     "exception": false,
     "start_time": "2025-02-15T16:13:51.979279",
     "status": "completed"
    },
    "tags": []
   },
   "outputs": [
    {
     "data": {
      "text/html": [
       "<div>\n",
       "<style scoped>\n",
       "    .dataframe tbody tr th:only-of-type {\n",
       "        vertical-align: middle;\n",
       "    }\n",
       "\n",
       "    .dataframe tbody tr th {\n",
       "        vertical-align: top;\n",
       "    }\n",
       "\n",
       "    .dataframe thead th {\n",
       "        text-align: right;\n",
       "    }\n",
       "</style>\n",
       "<table border=\"1\" class=\"dataframe\">\n",
       "  <thead>\n",
       "    <tr style=\"text-align: right;\">\n",
       "      <th></th>\n",
       "      <th>MachineID</th>\n",
       "      <th>ProductName</th>\n",
       "      <th>EngineVersion</th>\n",
       "      <th>AppVersion</th>\n",
       "      <th>SignatureVersion</th>\n",
       "      <th>IsBetaUser</th>\n",
       "      <th>RealTimeProtectionState</th>\n",
       "      <th>IsPassiveModeEnabled</th>\n",
       "      <th>AntivirusConfigID</th>\n",
       "      <th>NumAntivirusProductsInstalled</th>\n",
       "      <th>...</th>\n",
       "      <th>IsSecureBootEnabled</th>\n",
       "      <th>IsVirtualDevice</th>\n",
       "      <th>IsTouchEnabled</th>\n",
       "      <th>IsPenCapable</th>\n",
       "      <th>IsAlwaysOnAlwaysConnectedCapable</th>\n",
       "      <th>IsGamer</th>\n",
       "      <th>RegionIdentifier</th>\n",
       "      <th>DateAS</th>\n",
       "      <th>DateOS</th>\n",
       "      <th>target</th>\n",
       "    </tr>\n",
       "  </thead>\n",
       "  <tbody>\n",
       "    <tr>\n",
       "      <th>0</th>\n",
       "      <td>f541bae429089117c4aac39c90dd3416</td>\n",
       "      <td>win8defender</td>\n",
       "      <td>1.1.15200.1</td>\n",
       "      <td>4.18.1807.18075</td>\n",
       "      <td>1.275.1003.0</td>\n",
       "      <td>0</td>\n",
       "      <td>7.0</td>\n",
       "      <td>0</td>\n",
       "      <td>53447.0</td>\n",
       "      <td>1.0</td>\n",
       "      <td>...</td>\n",
       "      <td>0</td>\n",
       "      <td>0.0</td>\n",
       "      <td>1</td>\n",
       "      <td>0</td>\n",
       "      <td>1.0</td>\n",
       "      <td>0.0</td>\n",
       "      <td>6.0</td>\n",
       "      <td>2018-09-10 10:11:00</td>\n",
       "      <td>2018-04-17</td>\n",
       "      <td>0</td>\n",
       "    </tr>\n",
       "    <tr>\n",
       "      <th>1</th>\n",
       "      <td>dc2b14d9ce3a0ce4050bb640190f2ca5</td>\n",
       "      <td>win8defender</td>\n",
       "      <td>1.1.15100.1</td>\n",
       "      <td>4.18.1807.18075</td>\n",
       "      <td>1.273.1465.0</td>\n",
       "      <td>0</td>\n",
       "      <td>7.0</td>\n",
       "      <td>0</td>\n",
       "      <td>53447.0</td>\n",
       "      <td>1.0</td>\n",
       "      <td>...</td>\n",
       "      <td>1</td>\n",
       "      <td>0.0</td>\n",
       "      <td>0</td>\n",
       "      <td>0</td>\n",
       "      <td>0.0</td>\n",
       "      <td>0.0</td>\n",
       "      <td>10.0</td>\n",
       "      <td>2018-08-16 00:01:00</td>\n",
       "      <td>2018-08-14</td>\n",
       "      <td>1</td>\n",
       "    </tr>\n",
       "    <tr>\n",
       "      <th>2</th>\n",
       "      <td>fd20c5f010e9c5f91ad1c6b3e0da68a0</td>\n",
       "      <td>win8defender</td>\n",
       "      <td>1.1.15200.1</td>\n",
       "      <td>4.18.1807.18075</td>\n",
       "      <td>1.275.1546.0</td>\n",
       "      <td>0</td>\n",
       "      <td>7.0</td>\n",
       "      <td>0</td>\n",
       "      <td>53447.0</td>\n",
       "      <td>1.0</td>\n",
       "      <td>...</td>\n",
       "      <td>0</td>\n",
       "      <td>0.0</td>\n",
       "      <td>0</td>\n",
       "      <td>0</td>\n",
       "      <td>0.0</td>\n",
       "      <td>1.0</td>\n",
       "      <td>6.0</td>\n",
       "      <td>2018-09-20 23:20:00</td>\n",
       "      <td>2018-09-11</td>\n",
       "      <td>1</td>\n",
       "    </tr>\n",
       "    <tr>\n",
       "      <th>3</th>\n",
       "      <td>38711eae85eb77a72ec5dfdf27eb2a76</td>\n",
       "      <td>win8defender</td>\n",
       "      <td>1.1.15200.1</td>\n",
       "      <td>4.12.17007.18011</td>\n",
       "      <td>1.275.1141.0</td>\n",
       "      <td>0</td>\n",
       "      <td>7.0</td>\n",
       "      <td>0</td>\n",
       "      <td>46413.0</td>\n",
       "      <td>2.0</td>\n",
       "      <td>...</td>\n",
       "      <td>1</td>\n",
       "      <td>0.0</td>\n",
       "      <td>0</td>\n",
       "      <td>0</td>\n",
       "      <td>0.0</td>\n",
       "      <td>0.0</td>\n",
       "      <td>12.0</td>\n",
       "      <td>2018-09-14 00:32:00</td>\n",
       "      <td>2018-01-03</td>\n",
       "      <td>1</td>\n",
       "    </tr>\n",
       "    <tr>\n",
       "      <th>4</th>\n",
       "      <td>32607c9a543a9214e2c7e45800ed4849</td>\n",
       "      <td>win8defender</td>\n",
       "      <td>1.1.15200.1</td>\n",
       "      <td>4.13.17134.228</td>\n",
       "      <td>1.275.1283.0</td>\n",
       "      <td>0</td>\n",
       "      <td>7.0</td>\n",
       "      <td>0</td>\n",
       "      <td>40466.0</td>\n",
       "      <td>2.0</td>\n",
       "      <td>...</td>\n",
       "      <td>0</td>\n",
       "      <td>0.0</td>\n",
       "      <td>0</td>\n",
       "      <td>0</td>\n",
       "      <td>0.0</td>\n",
       "      <td>1.0</td>\n",
       "      <td>7.0</td>\n",
       "      <td>2018-09-15 19:34:00</td>\n",
       "      <td>2018-09-11</td>\n",
       "      <td>0</td>\n",
       "    </tr>\n",
       "  </tbody>\n",
       "</table>\n",
       "<p>5 rows × 76 columns</p>\n",
       "</div>"
      ],
      "text/plain": [
       "                          MachineID   ProductName EngineVersion  \\\n",
       "0  f541bae429089117c4aac39c90dd3416  win8defender   1.1.15200.1   \n",
       "1  dc2b14d9ce3a0ce4050bb640190f2ca5  win8defender   1.1.15100.1   \n",
       "2  fd20c5f010e9c5f91ad1c6b3e0da68a0  win8defender   1.1.15200.1   \n",
       "3  38711eae85eb77a72ec5dfdf27eb2a76  win8defender   1.1.15200.1   \n",
       "4  32607c9a543a9214e2c7e45800ed4849  win8defender   1.1.15200.1   \n",
       "\n",
       "         AppVersion SignatureVersion  IsBetaUser  RealTimeProtectionState  \\\n",
       "0   4.18.1807.18075     1.275.1003.0           0                      7.0   \n",
       "1   4.18.1807.18075     1.273.1465.0           0                      7.0   \n",
       "2   4.18.1807.18075     1.275.1546.0           0                      7.0   \n",
       "3  4.12.17007.18011     1.275.1141.0           0                      7.0   \n",
       "4    4.13.17134.228     1.275.1283.0           0                      7.0   \n",
       "\n",
       "   IsPassiveModeEnabled  AntivirusConfigID  NumAntivirusProductsInstalled  \\\n",
       "0                     0            53447.0                            1.0   \n",
       "1                     0            53447.0                            1.0   \n",
       "2                     0            53447.0                            1.0   \n",
       "3                     0            46413.0                            2.0   \n",
       "4                     0            40466.0                            2.0   \n",
       "\n",
       "   ...  IsSecureBootEnabled  IsVirtualDevice  IsTouchEnabled  IsPenCapable  \\\n",
       "0  ...                    0              0.0               1             0   \n",
       "1  ...                    1              0.0               0             0   \n",
       "2  ...                    0              0.0               0             0   \n",
       "3  ...                    1              0.0               0             0   \n",
       "4  ...                    0              0.0               0             0   \n",
       "\n",
       "   IsAlwaysOnAlwaysConnectedCapable  IsGamer RegionIdentifier  \\\n",
       "0                               1.0      0.0              6.0   \n",
       "1                               0.0      0.0             10.0   \n",
       "2                               0.0      1.0              6.0   \n",
       "3                               0.0      0.0             12.0   \n",
       "4                               0.0      1.0              7.0   \n",
       "\n",
       "                DateAS      DateOS  target  \n",
       "0  2018-09-10 10:11:00  2018-04-17       0  \n",
       "1  2018-08-16 00:01:00  2018-08-14       1  \n",
       "2  2018-09-20 23:20:00  2018-09-11       1  \n",
       "3  2018-09-14 00:32:00  2018-01-03       1  \n",
       "4  2018-09-15 19:34:00  2018-09-11       0  \n",
       "\n",
       "[5 rows x 76 columns]"
      ]
     },
     "execution_count": 2,
     "metadata": {},
     "output_type": "execute_result"
    }
   ],
   "source": [
    "import pandas as pd\n",
    "df = pd.read_csv(\"/kaggle/input/System-Threat-Forecaster/train.csv\")\n",
    "test_data = pd.read_csv(\"/kaggle/input/System-Threat-Forecaster/test.csv\")\n",
    "sample_submission = pd.read_csv('/kaggle/input/System-Threat-Forecaster/sample_submission.csv')\n",
    "df.head()"
   ]
  },
  {
   "cell_type": "code",
   "execution_count": 3,
   "id": "406d0828",
   "metadata": {
    "execution": {
     "iopub.execute_input": "2025-02-15T16:13:53.991966Z",
     "iopub.status.busy": "2025-02-15T16:13:53.991630Z",
     "iopub.status.idle": "2025-02-15T16:13:54.024997Z",
     "shell.execute_reply": "2025-02-15T16:13:54.024043Z"
    },
    "papermill": {
     "duration": 0.04367,
     "end_time": "2025-02-15T16:13:54.026643",
     "exception": false,
     "start_time": "2025-02-15T16:13:53.982973",
     "status": "completed"
    },
    "tags": []
   },
   "outputs": [
    {
     "data": {
      "text/plain": [
       "<bound method DataFrame.info of                               MachineID   ProductName EngineVersion  \\\n",
       "0      f541bae429089117c4aac39c90dd3416  win8defender   1.1.15200.1   \n",
       "1      dc2b14d9ce3a0ce4050bb640190f2ca5  win8defender   1.1.15100.1   \n",
       "2      fd20c5f010e9c5f91ad1c6b3e0da68a0  win8defender   1.1.15200.1   \n",
       "3      38711eae85eb77a72ec5dfdf27eb2a76  win8defender   1.1.15200.1   \n",
       "4      32607c9a543a9214e2c7e45800ed4849  win8defender   1.1.15200.1   \n",
       "...                                 ...           ...           ...   \n",
       "99995  a378b2196a7a1d8ee0d4f989ee46730e  win8defender   1.1.15200.1   \n",
       "99996  7f4433ca05d24b9bbdd3932f8b05e61f  win8defender   1.1.15100.1   \n",
       "99997  d6852dfff534e03d5ddfd3c7875ab072  win8defender   1.1.15200.1   \n",
       "99998  70a8dc682128c9ff78a3de5aea9dac74  win8defender   1.1.14901.4   \n",
       "99999  ad9c385b53f2ca788933a39603b84eda  win8defender   1.1.15000.2   \n",
       "\n",
       "             AppVersion SignatureVersion  IsBetaUser  RealTimeProtectionState  \\\n",
       "0       4.18.1807.18075     1.275.1003.0           0                      7.0   \n",
       "1       4.18.1807.18075     1.273.1465.0           0                      7.0   \n",
       "2       4.18.1807.18075     1.275.1546.0           0                      7.0   \n",
       "3      4.12.17007.18011     1.275.1141.0           0                      7.0   \n",
       "4        4.13.17134.228     1.275.1283.0           0                      7.0   \n",
       "...                 ...              ...         ...                      ...   \n",
       "99995   4.18.1807.18075     1.275.1582.0           0                      7.0   \n",
       "99996   4.18.1806.18062     1.273.1156.0           0                      7.0   \n",
       "99997   4.18.1807.18075      1.275.209.0           0                      7.0   \n",
       "99998  4.16.17656.18052      1.269.641.0           0                      7.0   \n",
       "99999   4.18.1806.18062     1.271.1003.0           0                      7.0   \n",
       "\n",
       "       IsPassiveModeEnabled  AntivirusConfigID  NumAntivirusProductsInstalled  \\\n",
       "0                         0            53447.0                            1.0   \n",
       "1                         0            53447.0                            1.0   \n",
       "2                         0            53447.0                            1.0   \n",
       "3                         0            46413.0                            2.0   \n",
       "4                         0            40466.0                            2.0   \n",
       "...                     ...                ...                            ...   \n",
       "99995                     0            68585.0                            2.0   \n",
       "99996                     0            11280.0                            2.0   \n",
       "99997                     0            53447.0                            1.0   \n",
       "99998                     0            53447.0                            1.0   \n",
       "99999                     0             7945.0                            2.0   \n",
       "\n",
       "       ...  IsSecureBootEnabled  IsVirtualDevice  IsTouchEnabled  \\\n",
       "0      ...                    0              0.0               1   \n",
       "1      ...                    1              0.0               0   \n",
       "2      ...                    0              0.0               0   \n",
       "3      ...                    1              0.0               0   \n",
       "4      ...                    0              0.0               0   \n",
       "...    ...                  ...              ...             ...   \n",
       "99995  ...                    0              0.0               0   \n",
       "99996  ...                    0              0.0               0   \n",
       "99997  ...                    1              0.0               0   \n",
       "99998  ...                    1              0.0               1   \n",
       "99999  ...                    1              0.0               0   \n",
       "\n",
       "       IsPenCapable  IsAlwaysOnAlwaysConnectedCapable  IsGamer  \\\n",
       "0                 0                               1.0      0.0   \n",
       "1                 0                               0.0      0.0   \n",
       "2                 0                               0.0      1.0   \n",
       "3                 0                               0.0      0.0   \n",
       "4                 0                               0.0      1.0   \n",
       "...             ...                               ...      ...   \n",
       "99995             0                               0.0      1.0   \n",
       "99996             0                               0.0      0.0   \n",
       "99997             0                               0.0      1.0   \n",
       "99998             1                               1.0      0.0   \n",
       "99999             0                               0.0      1.0   \n",
       "\n",
       "      RegionIdentifier               DateAS      DateOS  target  \n",
       "0                  6.0  2018-09-10 10:11:00  2018-04-17       0  \n",
       "1                 10.0  2018-08-16 00:01:00  2018-08-14       1  \n",
       "2                  6.0  2018-09-20 23:20:00  2018-09-11       1  \n",
       "3                 12.0  2018-09-14 00:32:00  2018-01-03       1  \n",
       "4                  7.0  2018-09-15 19:34:00  2018-09-11       0  \n",
       "...                ...                  ...         ...     ...  \n",
       "99995              7.0  2018-09-21 00:59:00  2018-09-20       0  \n",
       "99996              3.0  2018-08-10 07:23:00  2018-07-10       0  \n",
       "99997              1.0  2018-08-26 23:51:00  2018-03-13       1  \n",
       "99998              1.0  2018-06-04 17:13:00  2018-05-08       0  \n",
       "99999             11.0  2018-07-14 15:36:00  2018-08-14       0  \n",
       "\n",
       "[100000 rows x 76 columns]>"
      ]
     },
     "execution_count": 3,
     "metadata": {},
     "output_type": "execute_result"
    }
   ],
   "source": [
    "df.info"
   ]
  },
  {
   "cell_type": "code",
   "execution_count": 4,
   "id": "caaf66c7",
   "metadata": {
    "execution": {
     "iopub.execute_input": "2025-02-15T16:13:54.042480Z",
     "iopub.status.busy": "2025-02-15T16:13:54.042111Z",
     "iopub.status.idle": "2025-02-15T16:13:54.045605Z",
     "shell.execute_reply": "2025-02-15T16:13:54.044713Z"
    },
    "papermill": {
     "duration": 0.012942,
     "end_time": "2025-02-15T16:13:54.047052",
     "exception": false,
     "start_time": "2025-02-15T16:13:54.034110",
     "status": "completed"
    },
    "tags": []
   },
   "outputs": [],
   "source": [
    "#df =df.dropna(subset=['target'])\n",
    "#df.info()"
   ]
  },
  {
   "cell_type": "code",
   "execution_count": 5,
   "id": "7bb8b64e",
   "metadata": {
    "execution": {
     "iopub.execute_input": "2025-02-15T16:13:54.063000Z",
     "iopub.status.busy": "2025-02-15T16:13:54.062678Z",
     "iopub.status.idle": "2025-02-15T16:13:56.534083Z",
     "shell.execute_reply": "2025-02-15T16:13:56.532564Z"
    },
    "papermill": {
     "duration": 2.481648,
     "end_time": "2025-02-15T16:13:56.536038",
     "exception": false,
     "start_time": "2025-02-15T16:13:54.054390",
     "status": "completed"
    },
    "tags": []
   },
   "outputs": [
    {
     "name": "stdout",
     "output_type": "stream",
     "text": [
      "Missing values handled successfully!\n"
     ]
    }
   ],
   "source": [
    "from sklearn.impute import SimpleImputer\n",
    "\n",
    "# Identify numerical and categorical columns\n",
    "num_cols = df.select_dtypes(include=['int64', 'float64']).columns\n",
    "cat_cols = df.select_dtypes(include=['object']).columns\n",
    "num_cols = num_cols.drop('target', errors='ignore')\n",
    "\n",
    "# Impute numerical columns with mean\n",
    "imputer_num = SimpleImputer(strategy='mean')\n",
    "df[num_cols] = imputer_num.fit_transform(df[num_cols])\n",
    "test_data[num_cols] = imputer_num.transform(test_data[num_cols])\n",
    "\n",
    "# Impute categorical columns with most frequent value\n",
    "imputer_cat = SimpleImputer(strategy='most_frequent')\n",
    "df[cat_cols] = imputer_cat.fit_transform(df[cat_cols])\n",
    "test_data[cat_cols] = imputer_cat.transform(test_data[cat_cols])\n",
    "\n",
    "print(\"Missing values handled successfully!\")"
   ]
  },
  {
   "cell_type": "code",
   "execution_count": 6,
   "id": "b4166923",
   "metadata": {
    "execution": {
     "iopub.execute_input": "2025-02-15T16:13:56.552578Z",
     "iopub.status.busy": "2025-02-15T16:13:56.552055Z",
     "iopub.status.idle": "2025-02-15T16:13:56.610752Z",
     "shell.execute_reply": "2025-02-15T16:13:56.609693Z"
    },
    "papermill": {
     "duration": 0.068749,
     "end_time": "2025-02-15T16:13:56.612556",
     "exception": false,
     "start_time": "2025-02-15T16:13:56.543807",
     "status": "completed"
    },
    "tags": []
   },
   "outputs": [],
   "source": [
    "df['DateAS'] = pd.to_datetime(df['DateAS']).dt.month\n",
    "df['DateOS'] = pd.to_datetime(df['DateOS']).dt.month\n",
    "test_data['DateAS'] = pd.to_datetime(test_data['DateAS']).dt.month\n",
    "test_data['DateOS'] = pd.to_datetime(test_data['DateOS']).dt.month"
   ]
  },
  {
   "cell_type": "code",
   "execution_count": 7,
   "id": "cd7e7c1c",
   "metadata": {
    "execution": {
     "iopub.execute_input": "2025-02-15T16:13:56.628659Z",
     "iopub.status.busy": "2025-02-15T16:13:56.628236Z",
     "iopub.status.idle": "2025-02-15T16:13:56.918709Z",
     "shell.execute_reply": "2025-02-15T16:13:56.917665Z"
    },
    "papermill": {
     "duration": 0.300227,
     "end_time": "2025-02-15T16:13:56.920272",
     "exception": false,
     "start_time": "2025-02-15T16:13:56.620045",
     "status": "completed"
    },
    "tags": []
   },
   "outputs": [
    {
     "data": {
      "text/plain": [
       "(100000, 73)"
      ]
     },
     "execution_count": 7,
     "metadata": {},
     "output_type": "execute_result"
    }
   ],
   "source": [
    "cardinality = df.nunique().sort_values(ascending=False)\n",
    "\n",
    "low_cardinality = cardinality[cardinality == 1].index.tolist()\n",
    "df = df.drop(columns=low_cardinality)\n",
    "test_data = test_data.drop(columns=low_cardinality)\n",
    "df.shape"
   ]
  },
  {
   "cell_type": "code",
   "execution_count": 8,
   "id": "629fc586",
   "metadata": {
    "execution": {
     "iopub.execute_input": "2025-02-15T16:13:56.936748Z",
     "iopub.status.busy": "2025-02-15T16:13:56.936380Z",
     "iopub.status.idle": "2025-02-15T16:13:57.805244Z",
     "shell.execute_reply": "2025-02-15T16:13:57.804203Z"
    },
    "papermill": {
     "duration": 0.879103,
     "end_time": "2025-02-15T16:13:57.807032",
     "exception": false,
     "start_time": "2025-02-15T16:13:56.927929",
     "status": "completed"
    },
    "tags": []
   },
   "outputs": [
    {
     "data": {
      "text/html": [
       "<div>\n",
       "<style scoped>\n",
       "    .dataframe tbody tr th:only-of-type {\n",
       "        vertical-align: middle;\n",
       "    }\n",
       "\n",
       "    .dataframe tbody tr th {\n",
       "        vertical-align: top;\n",
       "    }\n",
       "\n",
       "    .dataframe thead th {\n",
       "        text-align: right;\n",
       "    }\n",
       "</style>\n",
       "<table border=\"1\" class=\"dataframe\">\n",
       "  <thead>\n",
       "    <tr style=\"text-align: right;\">\n",
       "      <th></th>\n",
       "      <th>MachineID</th>\n",
       "      <th>EngineVersion</th>\n",
       "      <th>AppVersion</th>\n",
       "      <th>SignatureVersion</th>\n",
       "      <th>RealTimeProtectionState</th>\n",
       "      <th>IsPassiveModeEnabled</th>\n",
       "      <th>AntivirusConfigID</th>\n",
       "      <th>NumAntivirusProductsInstalled</th>\n",
       "      <th>NumAntivirusProductsEnabled</th>\n",
       "      <th>HasTpm</th>\n",
       "      <th>...</th>\n",
       "      <th>LicenseActivationChannel_Retail</th>\n",
       "      <th>LicenseActivationChannel_Retail:TB:Eval</th>\n",
       "      <th>LicenseActivationChannel_Volume:GVLK</th>\n",
       "      <th>LicenseActivationChannel_Volume:MAK</th>\n",
       "      <th>FlightRing_NOT_SET</th>\n",
       "      <th>FlightRing_RP</th>\n",
       "      <th>FlightRing_Retail</th>\n",
       "      <th>FlightRing_Unknown</th>\n",
       "      <th>FlightRing_WIF</th>\n",
       "      <th>FlightRing_WIS</th>\n",
       "    </tr>\n",
       "  </thead>\n",
       "  <tbody>\n",
       "    <tr>\n",
       "      <th>0</th>\n",
       "      <td>f541bae429089117c4aac39c90dd3416</td>\n",
       "      <td>1.1.15200.1</td>\n",
       "      <td>4.18.1807.18075</td>\n",
       "      <td>1.275.1003.0</td>\n",
       "      <td>7.0</td>\n",
       "      <td>0.0</td>\n",
       "      <td>53447.0</td>\n",
       "      <td>1.0</td>\n",
       "      <td>1.0</td>\n",
       "      <td>1.0</td>\n",
       "      <td>...</td>\n",
       "      <td>True</td>\n",
       "      <td>False</td>\n",
       "      <td>False</td>\n",
       "      <td>False</td>\n",
       "      <td>False</td>\n",
       "      <td>False</td>\n",
       "      <td>True</td>\n",
       "      <td>False</td>\n",
       "      <td>False</td>\n",
       "      <td>False</td>\n",
       "    </tr>\n",
       "    <tr>\n",
       "      <th>1</th>\n",
       "      <td>dc2b14d9ce3a0ce4050bb640190f2ca5</td>\n",
       "      <td>1.1.15100.1</td>\n",
       "      <td>4.18.1807.18075</td>\n",
       "      <td>1.273.1465.0</td>\n",
       "      <td>7.0</td>\n",
       "      <td>0.0</td>\n",
       "      <td>53447.0</td>\n",
       "      <td>1.0</td>\n",
       "      <td>1.0</td>\n",
       "      <td>1.0</td>\n",
       "      <td>...</td>\n",
       "      <td>False</td>\n",
       "      <td>False</td>\n",
       "      <td>False</td>\n",
       "      <td>False</td>\n",
       "      <td>False</td>\n",
       "      <td>False</td>\n",
       "      <td>True</td>\n",
       "      <td>False</td>\n",
       "      <td>False</td>\n",
       "      <td>False</td>\n",
       "    </tr>\n",
       "    <tr>\n",
       "      <th>2</th>\n",
       "      <td>fd20c5f010e9c5f91ad1c6b3e0da68a0</td>\n",
       "      <td>1.1.15200.1</td>\n",
       "      <td>4.18.1807.18075</td>\n",
       "      <td>1.275.1546.0</td>\n",
       "      <td>7.0</td>\n",
       "      <td>0.0</td>\n",
       "      <td>53447.0</td>\n",
       "      <td>1.0</td>\n",
       "      <td>1.0</td>\n",
       "      <td>1.0</td>\n",
       "      <td>...</td>\n",
       "      <td>False</td>\n",
       "      <td>False</td>\n",
       "      <td>False</td>\n",
       "      <td>False</td>\n",
       "      <td>False</td>\n",
       "      <td>False</td>\n",
       "      <td>True</td>\n",
       "      <td>False</td>\n",
       "      <td>False</td>\n",
       "      <td>False</td>\n",
       "    </tr>\n",
       "    <tr>\n",
       "      <th>3</th>\n",
       "      <td>38711eae85eb77a72ec5dfdf27eb2a76</td>\n",
       "      <td>1.1.15200.1</td>\n",
       "      <td>4.12.17007.18011</td>\n",
       "      <td>1.275.1141.0</td>\n",
       "      <td>7.0</td>\n",
       "      <td>0.0</td>\n",
       "      <td>46413.0</td>\n",
       "      <td>2.0</td>\n",
       "      <td>1.0</td>\n",
       "      <td>1.0</td>\n",
       "      <td>...</td>\n",
       "      <td>False</td>\n",
       "      <td>False</td>\n",
       "      <td>False</td>\n",
       "      <td>False</td>\n",
       "      <td>False</td>\n",
       "      <td>False</td>\n",
       "      <td>True</td>\n",
       "      <td>False</td>\n",
       "      <td>False</td>\n",
       "      <td>False</td>\n",
       "    </tr>\n",
       "    <tr>\n",
       "      <th>4</th>\n",
       "      <td>32607c9a543a9214e2c7e45800ed4849</td>\n",
       "      <td>1.1.15200.1</td>\n",
       "      <td>4.13.17134.228</td>\n",
       "      <td>1.275.1283.0</td>\n",
       "      <td>7.0</td>\n",
       "      <td>0.0</td>\n",
       "      <td>40466.0</td>\n",
       "      <td>2.0</td>\n",
       "      <td>1.0</td>\n",
       "      <td>1.0</td>\n",
       "      <td>...</td>\n",
       "      <td>True</td>\n",
       "      <td>False</td>\n",
       "      <td>False</td>\n",
       "      <td>False</td>\n",
       "      <td>False</td>\n",
       "      <td>False</td>\n",
       "      <td>True</td>\n",
       "      <td>False</td>\n",
       "      <td>False</td>\n",
       "      <td>False</td>\n",
       "    </tr>\n",
       "    <tr>\n",
       "      <th>...</th>\n",
       "      <td>...</td>\n",
       "      <td>...</td>\n",
       "      <td>...</td>\n",
       "      <td>...</td>\n",
       "      <td>...</td>\n",
       "      <td>...</td>\n",
       "      <td>...</td>\n",
       "      <td>...</td>\n",
       "      <td>...</td>\n",
       "      <td>...</td>\n",
       "      <td>...</td>\n",
       "      <td>...</td>\n",
       "      <td>...</td>\n",
       "      <td>...</td>\n",
       "      <td>...</td>\n",
       "      <td>...</td>\n",
       "      <td>...</td>\n",
       "      <td>...</td>\n",
       "      <td>...</td>\n",
       "      <td>...</td>\n",
       "      <td>...</td>\n",
       "    </tr>\n",
       "    <tr>\n",
       "      <th>99995</th>\n",
       "      <td>a378b2196a7a1d8ee0d4f989ee46730e</td>\n",
       "      <td>1.1.15200.1</td>\n",
       "      <td>4.18.1807.18075</td>\n",
       "      <td>1.275.1582.0</td>\n",
       "      <td>7.0</td>\n",
       "      <td>0.0</td>\n",
       "      <td>68585.0</td>\n",
       "      <td>2.0</td>\n",
       "      <td>1.0</td>\n",
       "      <td>1.0</td>\n",
       "      <td>...</td>\n",
       "      <td>True</td>\n",
       "      <td>False</td>\n",
       "      <td>False</td>\n",
       "      <td>False</td>\n",
       "      <td>False</td>\n",
       "      <td>False</td>\n",
       "      <td>True</td>\n",
       "      <td>False</td>\n",
       "      <td>False</td>\n",
       "      <td>False</td>\n",
       "    </tr>\n",
       "    <tr>\n",
       "      <th>99996</th>\n",
       "      <td>7f4433ca05d24b9bbdd3932f8b05e61f</td>\n",
       "      <td>1.1.15100.1</td>\n",
       "      <td>4.18.1806.18062</td>\n",
       "      <td>1.273.1156.0</td>\n",
       "      <td>7.0</td>\n",
       "      <td>0.0</td>\n",
       "      <td>11280.0</td>\n",
       "      <td>2.0</td>\n",
       "      <td>1.0</td>\n",
       "      <td>1.0</td>\n",
       "      <td>...</td>\n",
       "      <td>True</td>\n",
       "      <td>False</td>\n",
       "      <td>False</td>\n",
       "      <td>False</td>\n",
       "      <td>False</td>\n",
       "      <td>False</td>\n",
       "      <td>True</td>\n",
       "      <td>False</td>\n",
       "      <td>False</td>\n",
       "      <td>False</td>\n",
       "    </tr>\n",
       "    <tr>\n",
       "      <th>99997</th>\n",
       "      <td>d6852dfff534e03d5ddfd3c7875ab072</td>\n",
       "      <td>1.1.15200.1</td>\n",
       "      <td>4.18.1807.18075</td>\n",
       "      <td>1.275.209.0</td>\n",
       "      <td>7.0</td>\n",
       "      <td>0.0</td>\n",
       "      <td>53447.0</td>\n",
       "      <td>1.0</td>\n",
       "      <td>1.0</td>\n",
       "      <td>1.0</td>\n",
       "      <td>...</td>\n",
       "      <td>False</td>\n",
       "      <td>False</td>\n",
       "      <td>False</td>\n",
       "      <td>False</td>\n",
       "      <td>False</td>\n",
       "      <td>False</td>\n",
       "      <td>True</td>\n",
       "      <td>False</td>\n",
       "      <td>False</td>\n",
       "      <td>False</td>\n",
       "    </tr>\n",
       "    <tr>\n",
       "      <th>99998</th>\n",
       "      <td>70a8dc682128c9ff78a3de5aea9dac74</td>\n",
       "      <td>1.1.14901.4</td>\n",
       "      <td>4.16.17656.18052</td>\n",
       "      <td>1.269.641.0</td>\n",
       "      <td>7.0</td>\n",
       "      <td>0.0</td>\n",
       "      <td>53447.0</td>\n",
       "      <td>1.0</td>\n",
       "      <td>1.0</td>\n",
       "      <td>1.0</td>\n",
       "      <td>...</td>\n",
       "      <td>False</td>\n",
       "      <td>False</td>\n",
       "      <td>False</td>\n",
       "      <td>False</td>\n",
       "      <td>False</td>\n",
       "      <td>False</td>\n",
       "      <td>False</td>\n",
       "      <td>True</td>\n",
       "      <td>False</td>\n",
       "      <td>False</td>\n",
       "    </tr>\n",
       "    <tr>\n",
       "      <th>99999</th>\n",
       "      <td>ad9c385b53f2ca788933a39603b84eda</td>\n",
       "      <td>1.1.15000.2</td>\n",
       "      <td>4.18.1806.18062</td>\n",
       "      <td>1.271.1003.0</td>\n",
       "      <td>7.0</td>\n",
       "      <td>0.0</td>\n",
       "      <td>7945.0</td>\n",
       "      <td>2.0</td>\n",
       "      <td>1.0</td>\n",
       "      <td>1.0</td>\n",
       "      <td>...</td>\n",
       "      <td>False</td>\n",
       "      <td>False</td>\n",
       "      <td>False</td>\n",
       "      <td>False</td>\n",
       "      <td>False</td>\n",
       "      <td>False</td>\n",
       "      <td>True</td>\n",
       "      <td>False</td>\n",
       "      <td>False</td>\n",
       "      <td>False</td>\n",
       "    </tr>\n",
       "  </tbody>\n",
       "</table>\n",
       "<p>100000 rows × 126 columns</p>\n",
       "</div>"
      ],
      "text/plain": [
       "                              MachineID EngineVersion        AppVersion  \\\n",
       "0      f541bae429089117c4aac39c90dd3416   1.1.15200.1   4.18.1807.18075   \n",
       "1      dc2b14d9ce3a0ce4050bb640190f2ca5   1.1.15100.1   4.18.1807.18075   \n",
       "2      fd20c5f010e9c5f91ad1c6b3e0da68a0   1.1.15200.1   4.18.1807.18075   \n",
       "3      38711eae85eb77a72ec5dfdf27eb2a76   1.1.15200.1  4.12.17007.18011   \n",
       "4      32607c9a543a9214e2c7e45800ed4849   1.1.15200.1    4.13.17134.228   \n",
       "...                                 ...           ...               ...   \n",
       "99995  a378b2196a7a1d8ee0d4f989ee46730e   1.1.15200.1   4.18.1807.18075   \n",
       "99996  7f4433ca05d24b9bbdd3932f8b05e61f   1.1.15100.1   4.18.1806.18062   \n",
       "99997  d6852dfff534e03d5ddfd3c7875ab072   1.1.15200.1   4.18.1807.18075   \n",
       "99998  70a8dc682128c9ff78a3de5aea9dac74   1.1.14901.4  4.16.17656.18052   \n",
       "99999  ad9c385b53f2ca788933a39603b84eda   1.1.15000.2   4.18.1806.18062   \n",
       "\n",
       "      SignatureVersion  RealTimeProtectionState  IsPassiveModeEnabled  \\\n",
       "0         1.275.1003.0                      7.0                   0.0   \n",
       "1         1.273.1465.0                      7.0                   0.0   \n",
       "2         1.275.1546.0                      7.0                   0.0   \n",
       "3         1.275.1141.0                      7.0                   0.0   \n",
       "4         1.275.1283.0                      7.0                   0.0   \n",
       "...                ...                      ...                   ...   \n",
       "99995     1.275.1582.0                      7.0                   0.0   \n",
       "99996     1.273.1156.0                      7.0                   0.0   \n",
       "99997      1.275.209.0                      7.0                   0.0   \n",
       "99998      1.269.641.0                      7.0                   0.0   \n",
       "99999     1.271.1003.0                      7.0                   0.0   \n",
       "\n",
       "       AntivirusConfigID  NumAntivirusProductsInstalled  \\\n",
       "0                53447.0                            1.0   \n",
       "1                53447.0                            1.0   \n",
       "2                53447.0                            1.0   \n",
       "3                46413.0                            2.0   \n",
       "4                40466.0                            2.0   \n",
       "...                  ...                            ...   \n",
       "99995            68585.0                            2.0   \n",
       "99996            11280.0                            2.0   \n",
       "99997            53447.0                            1.0   \n",
       "99998            53447.0                            1.0   \n",
       "99999             7945.0                            2.0   \n",
       "\n",
       "       NumAntivirusProductsEnabled  HasTpm  ...  \\\n",
       "0                              1.0     1.0  ...   \n",
       "1                              1.0     1.0  ...   \n",
       "2                              1.0     1.0  ...   \n",
       "3                              1.0     1.0  ...   \n",
       "4                              1.0     1.0  ...   \n",
       "...                            ...     ...  ...   \n",
       "99995                          1.0     1.0  ...   \n",
       "99996                          1.0     1.0  ...   \n",
       "99997                          1.0     1.0  ...   \n",
       "99998                          1.0     1.0  ...   \n",
       "99999                          1.0     1.0  ...   \n",
       "\n",
       "       LicenseActivationChannel_Retail  \\\n",
       "0                                 True   \n",
       "1                                False   \n",
       "2                                False   \n",
       "3                                False   \n",
       "4                                 True   \n",
       "...                                ...   \n",
       "99995                             True   \n",
       "99996                             True   \n",
       "99997                            False   \n",
       "99998                            False   \n",
       "99999                            False   \n",
       "\n",
       "       LicenseActivationChannel_Retail:TB:Eval  \\\n",
       "0                                        False   \n",
       "1                                        False   \n",
       "2                                        False   \n",
       "3                                        False   \n",
       "4                                        False   \n",
       "...                                        ...   \n",
       "99995                                    False   \n",
       "99996                                    False   \n",
       "99997                                    False   \n",
       "99998                                    False   \n",
       "99999                                    False   \n",
       "\n",
       "       LicenseActivationChannel_Volume:GVLK  \\\n",
       "0                                     False   \n",
       "1                                     False   \n",
       "2                                     False   \n",
       "3                                     False   \n",
       "4                                     False   \n",
       "...                                     ...   \n",
       "99995                                 False   \n",
       "99996                                 False   \n",
       "99997                                 False   \n",
       "99998                                 False   \n",
       "99999                                 False   \n",
       "\n",
       "       LicenseActivationChannel_Volume:MAK  FlightRing_NOT_SET  FlightRing_RP  \\\n",
       "0                                    False               False          False   \n",
       "1                                    False               False          False   \n",
       "2                                    False               False          False   \n",
       "3                                    False               False          False   \n",
       "4                                    False               False          False   \n",
       "...                                    ...                 ...            ...   \n",
       "99995                                False               False          False   \n",
       "99996                                False               False          False   \n",
       "99997                                False               False          False   \n",
       "99998                                False               False          False   \n",
       "99999                                False               False          False   \n",
       "\n",
       "      FlightRing_Retail  FlightRing_Unknown  FlightRing_WIF  FlightRing_WIS  \n",
       "0                  True               False           False           False  \n",
       "1                  True               False           False           False  \n",
       "2                  True               False           False           False  \n",
       "3                  True               False           False           False  \n",
       "4                  True               False           False           False  \n",
       "...                 ...                 ...             ...             ...  \n",
       "99995              True               False           False           False  \n",
       "99996              True               False           False           False  \n",
       "99997              True               False           False           False  \n",
       "99998             False                True           False           False  \n",
       "99999              True               False           False           False  \n",
       "\n",
       "[100000 rows x 126 columns]"
      ]
     },
     "execution_count": 8,
     "metadata": {},
     "output_type": "execute_result"
    }
   ],
   "source": [
    "categorical_cols = df.select_dtypes(include=['object']).columns\n",
    "\n",
    "selected_features = [col for col in categorical_cols if df[col].nunique() <= 10]\n",
    "high_cardinality_features = [col for col in categorical_cols if df[col].nunique() > 10]\n",
    "df = pd.get_dummies(df, columns=selected_features, drop_first=True)\n",
    "test_data= pd.get_dummies(test_data, columns=selected_features, drop_first=True)\n",
    "df"
   ]
  },
  {
   "cell_type": "code",
   "execution_count": 9,
   "id": "8c6d445d",
   "metadata": {
    "execution": {
     "iopub.execute_input": "2025-02-15T16:13:57.824568Z",
     "iopub.status.busy": "2025-02-15T16:13:57.824137Z",
     "iopub.status.idle": "2025-02-15T16:13:58.380853Z",
     "shell.execute_reply": "2025-02-15T16:13:58.379569Z"
    },
    "papermill": {
     "duration": 0.567441,
     "end_time": "2025-02-15T16:13:58.382696",
     "exception": false,
     "start_time": "2025-02-15T16:13:57.815255",
     "status": "completed"
    },
    "tags": []
   },
   "outputs": [
    {
     "data": {
      "text/html": [
       "<div>\n",
       "<style scoped>\n",
       "    .dataframe tbody tr th:only-of-type {\n",
       "        vertical-align: middle;\n",
       "    }\n",
       "\n",
       "    .dataframe tbody tr th {\n",
       "        vertical-align: top;\n",
       "    }\n",
       "\n",
       "    .dataframe thead th {\n",
       "        text-align: right;\n",
       "    }\n",
       "</style>\n",
       "<table border=\"1\" class=\"dataframe\">\n",
       "  <thead>\n",
       "    <tr style=\"text-align: right;\">\n",
       "      <th></th>\n",
       "      <th>MachineID</th>\n",
       "      <th>EngineVersion</th>\n",
       "      <th>AppVersion</th>\n",
       "      <th>SignatureVersion</th>\n",
       "      <th>RealTimeProtectionState</th>\n",
       "      <th>IsPassiveModeEnabled</th>\n",
       "      <th>AntivirusConfigID</th>\n",
       "      <th>NumAntivirusProductsInstalled</th>\n",
       "      <th>NumAntivirusProductsEnabled</th>\n",
       "      <th>HasTpm</th>\n",
       "      <th>...</th>\n",
       "      <th>LicenseActivationChannel_Retail</th>\n",
       "      <th>LicenseActivationChannel_Retail:TB:Eval</th>\n",
       "      <th>LicenseActivationChannel_Volume:GVLK</th>\n",
       "      <th>LicenseActivationChannel_Volume:MAK</th>\n",
       "      <th>FlightRing_NOT_SET</th>\n",
       "      <th>FlightRing_RP</th>\n",
       "      <th>FlightRing_Retail</th>\n",
       "      <th>FlightRing_Unknown</th>\n",
       "      <th>FlightRing_WIF</th>\n",
       "      <th>FlightRing_WIS</th>\n",
       "    </tr>\n",
       "  </thead>\n",
       "  <tbody>\n",
       "    <tr>\n",
       "      <th>0</th>\n",
       "      <td>95607</td>\n",
       "      <td>34</td>\n",
       "      <td>31</td>\n",
       "      <td>2218</td>\n",
       "      <td>7.0</td>\n",
       "      <td>0.0</td>\n",
       "      <td>53447.0</td>\n",
       "      <td>1.0</td>\n",
       "      <td>1.0</td>\n",
       "      <td>1.0</td>\n",
       "      <td>...</td>\n",
       "      <td>True</td>\n",
       "      <td>False</td>\n",
       "      <td>False</td>\n",
       "      <td>False</td>\n",
       "      <td>False</td>\n",
       "      <td>False</td>\n",
       "      <td>True</td>\n",
       "      <td>False</td>\n",
       "      <td>False</td>\n",
       "      <td>False</td>\n",
       "    </tr>\n",
       "    <tr>\n",
       "      <th>1</th>\n",
       "      <td>85800</td>\n",
       "      <td>33</td>\n",
       "      <td>31</td>\n",
       "      <td>1906</td>\n",
       "      <td>7.0</td>\n",
       "      <td>0.0</td>\n",
       "      <td>53447.0</td>\n",
       "      <td>1.0</td>\n",
       "      <td>1.0</td>\n",
       "      <td>1.0</td>\n",
       "      <td>...</td>\n",
       "      <td>False</td>\n",
       "      <td>False</td>\n",
       "      <td>False</td>\n",
       "      <td>False</td>\n",
       "      <td>False</td>\n",
       "      <td>False</td>\n",
       "      <td>True</td>\n",
       "      <td>False</td>\n",
       "      <td>False</td>\n",
       "      <td>False</td>\n",
       "    </tr>\n",
       "    <tr>\n",
       "      <th>2</th>\n",
       "      <td>98689</td>\n",
       "      <td>34</td>\n",
       "      <td>31</td>\n",
       "      <td>2331</td>\n",
       "      <td>7.0</td>\n",
       "      <td>0.0</td>\n",
       "      <td>53447.0</td>\n",
       "      <td>1.0</td>\n",
       "      <td>1.0</td>\n",
       "      <td>1.0</td>\n",
       "      <td>...</td>\n",
       "      <td>False</td>\n",
       "      <td>False</td>\n",
       "      <td>False</td>\n",
       "      <td>False</td>\n",
       "      <td>False</td>\n",
       "      <td>False</td>\n",
       "      <td>True</td>\n",
       "      <td>False</td>\n",
       "      <td>False</td>\n",
       "      <td>False</td>\n",
       "    </tr>\n",
       "    <tr>\n",
       "      <th>3</th>\n",
       "      <td>21877</td>\n",
       "      <td>34</td>\n",
       "      <td>17</td>\n",
       "      <td>2253</td>\n",
       "      <td>7.0</td>\n",
       "      <td>0.0</td>\n",
       "      <td>46413.0</td>\n",
       "      <td>2.0</td>\n",
       "      <td>1.0</td>\n",
       "      <td>1.0</td>\n",
       "      <td>...</td>\n",
       "      <td>False</td>\n",
       "      <td>False</td>\n",
       "      <td>False</td>\n",
       "      <td>False</td>\n",
       "      <td>False</td>\n",
       "      <td>False</td>\n",
       "      <td>True</td>\n",
       "      <td>False</td>\n",
       "      <td>False</td>\n",
       "      <td>False</td>\n",
       "    </tr>\n",
       "    <tr>\n",
       "      <th>4</th>\n",
       "      <td>19567</td>\n",
       "      <td>34</td>\n",
       "      <td>22</td>\n",
       "      <td>2265</td>\n",
       "      <td>7.0</td>\n",
       "      <td>0.0</td>\n",
       "      <td>40466.0</td>\n",
       "      <td>2.0</td>\n",
       "      <td>1.0</td>\n",
       "      <td>1.0</td>\n",
       "      <td>...</td>\n",
       "      <td>True</td>\n",
       "      <td>False</td>\n",
       "      <td>False</td>\n",
       "      <td>False</td>\n",
       "      <td>False</td>\n",
       "      <td>False</td>\n",
       "      <td>True</td>\n",
       "      <td>False</td>\n",
       "      <td>False</td>\n",
       "      <td>False</td>\n",
       "    </tr>\n",
       "  </tbody>\n",
       "</table>\n",
       "<p>5 rows × 126 columns</p>\n",
       "</div>"
      ],
      "text/plain": [
       "   MachineID  EngineVersion  AppVersion  SignatureVersion  \\\n",
       "0      95607             34          31              2218   \n",
       "1      85800             33          31              1906   \n",
       "2      98689             34          31              2331   \n",
       "3      21877             34          17              2253   \n",
       "4      19567             34          22              2265   \n",
       "\n",
       "   RealTimeProtectionState  IsPassiveModeEnabled  AntivirusConfigID  \\\n",
       "0                      7.0                   0.0            53447.0   \n",
       "1                      7.0                   0.0            53447.0   \n",
       "2                      7.0                   0.0            53447.0   \n",
       "3                      7.0                   0.0            46413.0   \n",
       "4                      7.0                   0.0            40466.0   \n",
       "\n",
       "   NumAntivirusProductsInstalled  NumAntivirusProductsEnabled  HasTpm  ...  \\\n",
       "0                            1.0                          1.0     1.0  ...   \n",
       "1                            1.0                          1.0     1.0  ...   \n",
       "2                            1.0                          1.0     1.0  ...   \n",
       "3                            2.0                          1.0     1.0  ...   \n",
       "4                            2.0                          1.0     1.0  ...   \n",
       "\n",
       "   LicenseActivationChannel_Retail  LicenseActivationChannel_Retail:TB:Eval  \\\n",
       "0                             True                                    False   \n",
       "1                            False                                    False   \n",
       "2                            False                                    False   \n",
       "3                            False                                    False   \n",
       "4                             True                                    False   \n",
       "\n",
       "   LicenseActivationChannel_Volume:GVLK  LicenseActivationChannel_Volume:MAK  \\\n",
       "0                                 False                                False   \n",
       "1                                 False                                False   \n",
       "2                                 False                                False   \n",
       "3                                 False                                False   \n",
       "4                                 False                                False   \n",
       "\n",
       "   FlightRing_NOT_SET  FlightRing_RP  FlightRing_Retail  FlightRing_Unknown  \\\n",
       "0               False          False               True               False   \n",
       "1               False          False               True               False   \n",
       "2               False          False               True               False   \n",
       "3               False          False               True               False   \n",
       "4               False          False               True               False   \n",
       "\n",
       "   FlightRing_WIF  FlightRing_WIS  \n",
       "0           False           False  \n",
       "1           False           False  \n",
       "2           False           False  \n",
       "3           False           False  \n",
       "4           False           False  \n",
       "\n",
       "[5 rows x 126 columns]"
      ]
     },
     "execution_count": 9,
     "metadata": {},
     "output_type": "execute_result"
    }
   ],
   "source": [
    "from sklearn.preprocessing import LabelEncoder\n",
    "encoder = LabelEncoder()\n",
    "for col in high_cardinality_features:\n",
    "    # Apply Label Encoding\n",
    "    df[col] = encoder.fit_transform(df[col])\n",
    "    test_data[col] = encoder.fit_transform(test_data[col]) \n",
    "\n",
    "# Display the transformed dataset\n",
    "df.head()"
   ]
  },
  {
   "cell_type": "code",
   "execution_count": 10,
   "id": "ea61e536",
   "metadata": {
    "execution": {
     "iopub.execute_input": "2025-02-15T16:13:58.401380Z",
     "iopub.status.busy": "2025-02-15T16:13:58.401024Z",
     "iopub.status.idle": "2025-02-15T16:13:58.545639Z",
     "shell.execute_reply": "2025-02-15T16:13:58.544454Z"
    },
    "papermill": {
     "duration": 0.155889,
     "end_time": "2025-02-15T16:13:58.547500",
     "exception": false,
     "start_time": "2025-02-15T16:13:58.391611",
     "status": "completed"
    },
    "tags": []
   },
   "outputs": [],
   "source": [
    "num_cols = df.select_dtypes(include=['int64','int32','float64']).columns.drop('target', errors='ignore')\n",
    "from sklearn.preprocessing import MinMaxScaler\n",
    "scaler = MinMaxScaler()\n",
    "df[num_cols] = scaler.fit_transform(df[num_cols])\n",
    "test_data[num_cols] = scaler.fit_transform(test_data[num_cols]) "
   ]
  },
  {
   "cell_type": "code",
   "execution_count": 11,
   "id": "9a3cd313",
   "metadata": {
    "execution": {
     "iopub.execute_input": "2025-02-15T16:13:58.565704Z",
     "iopub.status.busy": "2025-02-15T16:13:58.565294Z",
     "iopub.status.idle": "2025-02-15T16:13:58.595321Z",
     "shell.execute_reply": "2025-02-15T16:13:58.594310Z"
    },
    "papermill": {
     "duration": 0.041085,
     "end_time": "2025-02-15T16:13:58.597150",
     "exception": false,
     "start_time": "2025-02-15T16:13:58.556065",
     "status": "completed"
    },
    "tags": []
   },
   "outputs": [],
   "source": [
    "df= df.drop(columns=list(set(df.columns)-(set(test_data.columns)|{'target'})), axis=1)"
   ]
  },
  {
   "cell_type": "code",
   "execution_count": 12,
   "id": "34c8d5f5",
   "metadata": {
    "execution": {
     "iopub.execute_input": "2025-02-15T16:13:58.615534Z",
     "iopub.status.busy": "2025-02-15T16:13:58.615105Z",
     "iopub.status.idle": "2025-02-15T16:13:58.621494Z",
     "shell.execute_reply": "2025-02-15T16:13:58.620400Z"
    },
    "papermill": {
     "duration": 0.017318,
     "end_time": "2025-02-15T16:13:58.623273",
     "exception": false,
     "start_time": "2025-02-15T16:13:58.605955",
     "status": "completed"
    },
    "tags": []
   },
   "outputs": [],
   "source": [
    "from sklearn.preprocessing import LabelEncoder\n",
    "\n",
    "# Automatically identify categorical columns\n",
    "categorical_cols = df.select_dtypes(include=['object']).columns\n",
    "test_categorical_cols = test_data.select_dtypes(include=['object']).columns\n",
    "\n",
    "# Apply Label Encoding\n",
    "encoder = LabelEncoder()\n",
    "for col in categorical_cols:\n",
    "    df[col] = encoder.fit_transform(df[col])\n",
    "for col in test_categorical_cols:\n",
    "    test_data[col] = encoder.fit_transform(test_data[col])    "
   ]
  },
  {
   "cell_type": "code",
   "execution_count": 13,
   "id": "35a64613",
   "metadata": {
    "execution": {
     "iopub.execute_input": "2025-02-15T16:13:58.641615Z",
     "iopub.status.busy": "2025-02-15T16:13:58.641235Z",
     "iopub.status.idle": "2025-02-15T16:13:58.779498Z",
     "shell.execute_reply": "2025-02-15T16:13:58.778478Z"
    },
    "papermill": {
     "duration": 0.149286,
     "end_time": "2025-02-15T16:13:58.781284",
     "exception": false,
     "start_time": "2025-02-15T16:13:58.631998",
     "status": "completed"
    },
    "tags": []
   },
   "outputs": [],
   "source": [
    "from sklearn.model_selection import train_test_split\n",
    "X = df.drop(columns=['target'])   # Features\n",
    "y = df['target']     # Target column\n",
    "X_train, X_test, y_train, y_test = train_test_split(X, y, test_size=0.2, random_state=42)"
   ]
  },
  {
   "cell_type": "code",
   "execution_count": 14,
   "id": "411a158c",
   "metadata": {
    "execution": {
     "iopub.execute_input": "2025-02-15T16:13:58.799514Z",
     "iopub.status.busy": "2025-02-15T16:13:58.799074Z",
     "iopub.status.idle": "2025-02-15T16:14:06.706981Z",
     "shell.execute_reply": "2025-02-15T16:14:06.705750Z"
    },
    "papermill": {
     "duration": 7.919198,
     "end_time": "2025-02-15T16:14:06.709098",
     "exception": false,
     "start_time": "2025-02-15T16:13:58.789900",
     "status": "completed"
    },
    "tags": []
   },
   "outputs": [
    {
     "name": "stdout",
     "output_type": "stream",
     "text": [
      "Accuracy: 0.6134\n"
     ]
    }
   ],
   "source": [
    "from xgboost import XGBClassifier\n",
    "from sklearn.metrics import accuracy_score\n",
    "\n",
    "# Initialize the XGBoost classifier\n",
    "xgb = XGBClassifier(n_estimators=500, random_state=42)\n",
    "\n",
    "# Train the model\n",
    "xgb.fit(X_train, y_train)\n",
    "y_pred_xgb = xgb.predict(X_test)\n",
    "accuracy = accuracy_score(y_test, y_pred_xgb)\n",
    "print(f\"Accuracy: {accuracy:.4f}\")"
   ]
  },
  {
   "cell_type": "code",
   "execution_count": 15,
   "id": "cad4777b",
   "metadata": {
    "execution": {
     "iopub.execute_input": "2025-02-15T16:14:06.728106Z",
     "iopub.status.busy": "2025-02-15T16:14:06.727784Z",
     "iopub.status.idle": "2025-02-15T16:14:06.736776Z",
     "shell.execute_reply": "2025-02-15T16:14:06.735620Z"
    },
    "papermill": {
     "duration": 0.020662,
     "end_time": "2025-02-15T16:14:06.738546",
     "exception": false,
     "start_time": "2025-02-15T16:14:06.717884",
     "status": "completed"
    },
    "tags": []
   },
   "outputs": [],
   "source": [
    "test_data = test_data[X.columns]"
   ]
  },
  {
   "cell_type": "code",
   "execution_count": 16,
   "id": "fd39e263",
   "metadata": {
    "execution": {
     "iopub.execute_input": "2025-02-15T16:14:06.756564Z",
     "iopub.status.busy": "2025-02-15T16:14:06.756155Z",
     "iopub.status.idle": "2025-02-15T16:14:06.759804Z",
     "shell.execute_reply": "2025-02-15T16:14:06.758925Z"
    },
    "papermill": {
     "duration": 0.01431,
     "end_time": "2025-02-15T16:14:06.761338",
     "exception": false,
     "start_time": "2025-02-15T16:14:06.747028",
     "status": "completed"
    },
    "tags": []
   },
   "outputs": [],
   "source": [
    "#Q1 = df.target.quantile(0.25)\n",
    "#Q3 = df.target.quantile(0.75)\n",
    "#IQR = Q3 - Q1\n",
    "#df = df[(df.target >= (Q1 - 1.5*IQR)) & (df.target <= (Q3+1.5*IQR))]"
   ]
  },
  {
   "cell_type": "code",
   "execution_count": 17,
   "id": "60708f4f",
   "metadata": {
    "execution": {
     "iopub.execute_input": "2025-02-15T16:14:06.779489Z",
     "iopub.status.busy": "2025-02-15T16:14:06.779061Z",
     "iopub.status.idle": "2025-02-15T16:14:06.782840Z",
     "shell.execute_reply": "2025-02-15T16:14:06.781800Z"
    },
    "papermill": {
     "duration": 0.014581,
     "end_time": "2025-02-15T16:14:06.784475",
     "exception": false,
     "start_time": "2025-02-15T16:14:06.769894",
     "status": "completed"
    },
    "tags": []
   },
   "outputs": [],
   "source": [
    "#import pandas as pd\n",
    "#df = pd.read_csv(\"/kaggle/input/System-Threat-Forecaster/train.csv\")\n",
    "#df_copy = df.copy()"
   ]
  },
  {
   "cell_type": "code",
   "execution_count": 18,
   "id": "9d997707",
   "metadata": {
    "execution": {
     "iopub.execute_input": "2025-02-15T16:14:06.802509Z",
     "iopub.status.busy": "2025-02-15T16:14:06.802100Z",
     "iopub.status.idle": "2025-02-15T16:14:06.805806Z",
     "shell.execute_reply": "2025-02-15T16:14:06.804739Z"
    },
    "papermill": {
     "duration": 0.014543,
     "end_time": "2025-02-15T16:14:06.807470",
     "exception": false,
     "start_time": "2025-02-15T16:14:06.792927",
     "status": "completed"
    },
    "tags": []
   },
   "outputs": [],
   "source": [
    "#constant_columns = df.nunique()[df.nunique() == 1]\n",
    "#print(constant_columns)"
   ]
  },
  {
   "cell_type": "code",
   "execution_count": 19,
   "id": "fb350d46",
   "metadata": {
    "execution": {
     "iopub.execute_input": "2025-02-15T16:14:06.826086Z",
     "iopub.status.busy": "2025-02-15T16:14:06.825707Z",
     "iopub.status.idle": "2025-02-15T16:14:06.829681Z",
     "shell.execute_reply": "2025-02-15T16:14:06.828467Z"
    },
    "papermill": {
     "duration": 0.015295,
     "end_time": "2025-02-15T16:14:06.831552",
     "exception": false,
     "start_time": "2025-02-15T16:14:06.816257",
     "status": "completed"
    },
    "tags": []
   },
   "outputs": [],
   "source": [
    "#import pandas as pd\n",
    "#df = pd.read_csv(\"/kaggle/input/System-Threat-Forecaster/train.csv\")\n",
    "#test_data = pd.read_csv(\"/kaggle/input/System-Threat-Forecaster/train.csv\")\n",
    "#sample_submission = pd.read_csv('/kaggle/input/System-Threat-Forecaster/sample_submission.csv')\n",
    "#df.head()\n"
   ]
  },
  {
   "cell_type": "code",
   "execution_count": 20,
   "id": "dbabf98a",
   "metadata": {
    "execution": {
     "iopub.execute_input": "2025-02-15T16:14:06.850043Z",
     "iopub.status.busy": "2025-02-15T16:14:06.849694Z",
     "iopub.status.idle": "2025-02-15T16:14:06.853671Z",
     "shell.execute_reply": "2025-02-15T16:14:06.852498Z"
    },
    "papermill": {
     "duration": 0.015189,
     "end_time": "2025-02-15T16:14:06.855367",
     "exception": false,
     "start_time": "2025-02-15T16:14:06.840178",
     "status": "completed"
    },
    "tags": []
   },
   "outputs": [],
   "source": [
    "#df =df.dropna(subset=['target'])\n",
    "#df.info()\n",
    "\n"
   ]
  },
  {
   "cell_type": "code",
   "execution_count": 21,
   "id": "c19bbe7e",
   "metadata": {
    "execution": {
     "iopub.execute_input": "2025-02-15T16:14:06.873634Z",
     "iopub.status.busy": "2025-02-15T16:14:06.873251Z",
     "iopub.status.idle": "2025-02-15T16:14:06.877062Z",
     "shell.execute_reply": "2025-02-15T16:14:06.875909Z"
    },
    "papermill": {
     "duration": 0.014774,
     "end_time": "2025-02-15T16:14:06.878810",
     "exception": false,
     "start_time": "2025-02-15T16:14:06.864036",
     "status": "completed"
    },
    "tags": []
   },
   "outputs": [],
   "source": [
    "#Q1 = df.target.quantile(0.25)\n",
    "#Q3 = df.target.quantile(0.75)\n",
    "#IQR = Q3 - Q1\n",
    "#df = df[(df.target >= (Q1 - 1.5*IQR)) & (df.target <= (Q3+1.5*IQR))]"
   ]
  },
  {
   "cell_type": "code",
   "execution_count": 22,
   "id": "512b95f1",
   "metadata": {
    "execution": {
     "iopub.execute_input": "2025-02-15T16:14:06.896672Z",
     "iopub.status.busy": "2025-02-15T16:14:06.896270Z",
     "iopub.status.idle": "2025-02-15T16:14:06.900636Z",
     "shell.execute_reply": "2025-02-15T16:14:06.899539Z"
    },
    "papermill": {
     "duration": 0.015017,
     "end_time": "2025-02-15T16:14:06.902248",
     "exception": false,
     "start_time": "2025-02-15T16:14:06.887231",
     "status": "completed"
    },
    "tags": []
   },
   "outputs": [],
   "source": [
    "#from sklearn.ensemble import GradientBoostingRegressor\n",
    "#from sklearn.metrics import mean_absolute_error, mean_squared_error, r2_score\n",
    "#model = GradientBoostingRegressor(\n",
    "  #  n_estimators=550,\n",
    "   # learning_rate=0.05,\n",
    "  #  max_depth=5,\n",
    "  #  min_samples_split=10,\n",
    "   # min_samples_leaf=5,\n",
    "  #  subsample=0.8,\n",
    "  #  max_features=0.8,\n",
    "  #  loss='huber',\n",
    "  #  alpha=0.75,\n",
    "#)\n",
    "#model.fit(X_train, y_train)\n",
    "#y_pred_train = model.predict(X_train)\n",
    "#y_pred_test = model.predict(X_test)\n",
    "# Train performance\n",
    "#train_r2 = r2_score(y_train, y_pred_train)\n",
    "#train_mae = mean_absolute_error(y_train, y_pred_train)\n",
    "#train_mse = mean_squared_error(y_train, y_pred_train)\n",
    "#\n",
    "# Test performance\n",
    "#test_r2 = r2_score(y_test, y_pred_test)\n",
    "#test_mae = mean_absolute_error(y_test, y_pred_test)\n",
    "#test_mse = mean_squared_error(y_test, y_pred_test)\n",
    "#\n",
    "#print(f\"Train R²: {train_r2}\")\n",
    "#print(f\"Test R²: {test_r2}\")\n",
    "#print(f\"Train MAE: {train_mae}\")\n",
    "#print(f\"Test MAE: {test_mae}\")\n",
    "#print(f\"Train MSE: {train_mse}\")\n",
    "#print(f\"Test MSE: {test_mse}\")"
   ]
  },
  {
   "cell_type": "code",
   "execution_count": 23,
   "id": "cea45e29",
   "metadata": {
    "execution": {
     "iopub.execute_input": "2025-02-15T16:14:06.920350Z",
     "iopub.status.busy": "2025-02-15T16:14:06.919971Z",
     "iopub.status.idle": "2025-02-15T16:14:07.089929Z",
     "shell.execute_reply": "2025-02-15T16:14:07.088777Z"
    },
    "papermill": {
     "duration": 0.180954,
     "end_time": "2025-02-15T16:14:07.091754",
     "exception": false,
     "start_time": "2025-02-15T16:14:06.910800",
     "status": "completed"
    },
    "tags": []
   },
   "outputs": [
    {
     "name": "stdout",
     "output_type": "stream",
     "text": [
      "Submission file created.\n"
     ]
    }
   ],
   "source": [
    "test_predictions = xgb.predict(test_data)  # Generate predictions\n",
    "\n",
    "# Create submission DataFrame (Ensure sample_submission exists)\n",
    "submission = sample_submission.copy()\n",
    "submission['target'] = test_predictions  \n",
    "\n",
    "# If classification-like labels are needed (Assuming binary case)\n",
    "# Ensure model output is properly rounded or thresholded\n",
    "submission['target'] = submission['target'].apply(lambda x: '1' if x > 0.5 else '0')\n",
    "\n",
    "# Save to CSV\n",
    "submission.to_csv('submission.csv', index=False)\n",
    "\n",
    "# Output file ready for submission\n",
    "print(\"Submission file created.\")"
   ]
  },
  {
   "cell_type": "code",
   "execution_count": 24,
   "id": "8547e29f",
   "metadata": {
    "execution": {
     "iopub.execute_input": "2025-02-15T16:14:07.110023Z",
     "iopub.status.busy": "2025-02-15T16:14:07.109665Z",
     "iopub.status.idle": "2025-02-15T16:14:07.113464Z",
     "shell.execute_reply": "2025-02-15T16:14:07.112412Z"
    },
    "papermill": {
     "duration": 0.014799,
     "end_time": "2025-02-15T16:14:07.115157",
     "exception": false,
     "start_time": "2025-02-15T16:14:07.100358",
     "status": "completed"
    },
    "tags": []
   },
   "outputs": [],
   "source": [
    "#if 'PrimaryDisplayResolutionHorizontal' in df.columns and 'PrimaryDisplayResolutionVertical' in df.columns:\n",
    "    #resolution_count = df[(df['PrimaryDisplayResolutionHorizontal'] == 1366) & (df['PrimaryDisplayResolutionVertical'] == 768)].shape[0]\n",
    "   # print(f'Number of systems with a screen resolution of 1366 x 768: {resolution_count}')\n",
    "#else:\n",
    "  #  print('Columns for horizontal and vertical resolution not found in the dataset.')"
   ]
  },
  {
   "cell_type": "code",
   "execution_count": 25,
   "id": "a61d3d6c",
   "metadata": {
    "execution": {
     "iopub.execute_input": "2025-02-15T16:14:07.133707Z",
     "iopub.status.busy": "2025-02-15T16:14:07.133314Z",
     "iopub.status.idle": "2025-02-15T16:14:07.137148Z",
     "shell.execute_reply": "2025-02-15T16:14:07.136227Z"
    },
    "papermill": {
     "duration": 0.014984,
     "end_time": "2025-02-15T16:14:07.138937",
     "exception": false,
     "start_time": "2025-02-15T16:14:07.123953",
     "status": "completed"
    },
    "tags": []
   },
   "outputs": [],
   "source": [
    "# Filter the dataset for gamers with malware detected\n",
    "#gamer_malware_count = df[(df['IsGamer'] == 1) & (df['target'] == 1)].shape[0]\n",
    "\n",
    "#print(f'Number of systems owned by gamers where malware was detected: {gamer_malware_count}')"
   ]
  },
  {
   "cell_type": "code",
   "execution_count": 26,
   "id": "4f2f269e",
   "metadata": {
    "execution": {
     "iopub.execute_input": "2025-02-15T16:14:07.158024Z",
     "iopub.status.busy": "2025-02-15T16:14:07.157681Z",
     "iopub.status.idle": "2025-02-15T16:14:07.161702Z",
     "shell.execute_reply": "2025-02-15T16:14:07.160537Z"
    },
    "papermill": {
     "duration": 0.015367,
     "end_time": "2025-02-15T16:14:07.163253",
     "exception": false,
     "start_time": "2025-02-15T16:14:07.147886",
     "status": "completed"
    },
    "tags": []
   },
   "outputs": [],
   "source": [
    "#df =pd.read_csv(\"/kaggle/input/System-Threat-Forecaster/train.csv\")\n"
   ]
  },
  {
   "cell_type": "code",
   "execution_count": 27,
   "id": "44190d10",
   "metadata": {
    "execution": {
     "iopub.execute_input": "2025-02-15T16:14:07.181963Z",
     "iopub.status.busy": "2025-02-15T16:14:07.181577Z",
     "iopub.status.idle": "2025-02-15T16:14:07.185617Z",
     "shell.execute_reply": "2025-02-15T16:14:07.184564Z"
    },
    "papermill": {
     "duration": 0.015394,
     "end_time": "2025-02-15T16:14:07.187325",
     "exception": false,
     "start_time": "2025-02-15T16:14:07.171931",
     "status": "completed"
    },
    "tags": []
   },
   "outputs": [],
   "source": [
    "#X_test =pd.read_csv(\"/kaggle/input/System-Threat-Forecaster/test.csv\")"
   ]
  },
  {
   "cell_type": "code",
   "execution_count": 28,
   "id": "3f88d434",
   "metadata": {
    "execution": {
     "iopub.execute_input": "2025-02-15T16:14:07.205856Z",
     "iopub.status.busy": "2025-02-15T16:14:07.205503Z",
     "iopub.status.idle": "2025-02-15T16:14:07.209303Z",
     "shell.execute_reply": "2025-02-15T16:14:07.208277Z"
    },
    "papermill": {
     "duration": 0.015196,
     "end_time": "2025-02-15T16:14:07.211261",
     "exception": false,
     "start_time": "2025-02-15T16:14:07.196065",
     "status": "completed"
    },
    "tags": []
   },
   "outputs": [],
   "source": [
    "#import pandas as pd  \n",
    "\n",
    "\n",
    "#df = pd.read_csv(\"/kaggle/input/System-Threat-Forecaster/train.csv\")\n",
    "\n",
    "\n",
    "#df_clean = df.dropna()\n",
    "\n",
    "\n",
    "\n"
   ]
  },
  {
   "cell_type": "code",
   "execution_count": 29,
   "id": "d2fce634",
   "metadata": {
    "execution": {
     "iopub.execute_input": "2025-02-15T16:14:07.229923Z",
     "iopub.status.busy": "2025-02-15T16:14:07.229553Z",
     "iopub.status.idle": "2025-02-15T16:14:07.233640Z",
     "shell.execute_reply": "2025-02-15T16:14:07.232462Z"
    },
    "papermill": {
     "duration": 0.015331,
     "end_time": "2025-02-15T16:14:07.235392",
     "exception": false,
     "start_time": "2025-02-15T16:14:07.220061",
     "status": "completed"
    },
    "tags": []
   },
   "outputs": [],
   "source": [
    "#X =df.drop(\"target\", axis =1)\n",
    "#y =df[\"target\"]"
   ]
  },
  {
   "cell_type": "code",
   "execution_count": 30,
   "id": "36b15f93",
   "metadata": {
    "execution": {
     "iopub.execute_input": "2025-02-15T16:14:07.253858Z",
     "iopub.status.busy": "2025-02-15T16:14:07.253468Z",
     "iopub.status.idle": "2025-02-15T16:14:07.257605Z",
     "shell.execute_reply": "2025-02-15T16:14:07.256662Z"
    },
    "papermill": {
     "duration": 0.014984,
     "end_time": "2025-02-15T16:14:07.259145",
     "exception": false,
     "start_time": "2025-02-15T16:14:07.244161",
     "status": "completed"
    },
    "tags": []
   },
   "outputs": [],
   "source": [
    "#from sklearn.dummy import DummyClassifier\n",
    "#model =DummyClassifier().fit(X,y)\n",
    "#y_pred =model.predict(X_test)"
   ]
  },
  {
   "cell_type": "code",
   "execution_count": 31,
   "id": "273dd4e8",
   "metadata": {
    "execution": {
     "iopub.execute_input": "2025-02-15T16:14:07.278217Z",
     "iopub.status.busy": "2025-02-15T16:14:07.277826Z",
     "iopub.status.idle": "2025-02-15T16:14:07.281827Z",
     "shell.execute_reply": "2025-02-15T16:14:07.280577Z"
    },
    "papermill": {
     "duration": 0.015542,
     "end_time": "2025-02-15T16:14:07.283640",
     "exception": false,
     "start_time": "2025-02-15T16:14:07.268098",
     "status": "completed"
    },
    "tags": []
   },
   "outputs": [],
   "source": [
    "#submission =pd.DataFrame({\"id\": range(0,X_test.shape[0]),\n",
    "\n",
    "#\"target\": y_pred})\n",
    "\n",
    "#submission.to_csv('submission.csv', index =False)\n"
   ]
  },
  {
   "cell_type": "code",
   "execution_count": 32,
   "id": "793f53a5",
   "metadata": {
    "execution": {
     "iopub.execute_input": "2025-02-15T16:14:07.303361Z",
     "iopub.status.busy": "2025-02-15T16:14:07.303039Z",
     "iopub.status.idle": "2025-02-15T16:14:07.306833Z",
     "shell.execute_reply": "2025-02-15T16:14:07.305980Z"
    },
    "papermill": {
     "duration": 0.015811,
     "end_time": "2025-02-15T16:14:07.308391",
     "exception": false,
     "start_time": "2025-02-15T16:14:07.292580",
     "status": "completed"
    },
    "tags": []
   },
   "outputs": [],
   "source": [
    "#import pandas as pd  \n",
    "\n",
    "# Load the dataset\n",
    "#train_df = pd.read_csv(\"/kaggle/input/System-Threat-Forecaster/train.csv\")\n",
    "\n",
    "# Drop rows with missing values\n",
    "#train_clean = train_df.dropna()\n",
    "\n",
    "# Now, you can proceed with calculations\n",
    "#max_antivirus = train_clean[\"NumAntivirusProductsInstalled\"].max()\n",
    "#print(\"Max NumAntivirusProductsInstalled:\", max_antivirus)\n"
   ]
  },
  {
   "cell_type": "code",
   "execution_count": 33,
   "id": "ba054ea3",
   "metadata": {
    "execution": {
     "iopub.execute_input": "2025-02-15T16:14:07.328003Z",
     "iopub.status.busy": "2025-02-15T16:14:07.327638Z",
     "iopub.status.idle": "2025-02-15T16:14:07.331710Z",
     "shell.execute_reply": "2025-02-15T16:14:07.330531Z"
    },
    "papermill": {
     "duration": 0.016281,
     "end_time": "2025-02-15T16:14:07.333678",
     "exception": false,
     "start_time": "2025-02-15T16:14:07.317397",
     "status": "completed"
    },
    "tags": []
   },
   "outputs": [],
   "source": [
    "#if \"OSVersion\" in train_clean.columns:\n",
    "   # unique_os_versions = train_clean[\"OSVersion\"].nunique()\n",
    "  #  print(\"Unique Operating System Versions:\", unique_os_versions)\n",
    "#else:\n",
    "   # print(\"Column 'OperatingSystemVersion' not found. Check column names.\")\n",
    "    "
   ]
  },
  {
   "cell_type": "code",
   "execution_count": 34,
   "id": "4e3a033c",
   "metadata": {
    "execution": {
     "iopub.execute_input": "2025-02-15T16:14:07.353286Z",
     "iopub.status.busy": "2025-02-15T16:14:07.352880Z",
     "iopub.status.idle": "2025-02-15T16:14:07.357107Z",
     "shell.execute_reply": "2025-02-15T16:14:07.355948Z"
    },
    "papermill": {
     "duration": 0.015941,
     "end_time": "2025-02-15T16:14:07.359033",
     "exception": false,
     "start_time": "2025-02-15T16:14:07.343092",
     "status": "completed"
    },
    "tags": []
   },
   "outputs": [],
   "source": [
    "#median_ram = train_clean[\"TotalPhysicalRAMMB\"].median()\n",
    "#print(\"50th Percentile (Median) TotalPhysicalRAMMB:\", median_ram)\n"
   ]
  },
  {
   "cell_type": "code",
   "execution_count": 35,
   "id": "f5736369",
   "metadata": {
    "execution": {
     "iopub.execute_input": "2025-02-15T16:14:07.379204Z",
     "iopub.status.busy": "2025-02-15T16:14:07.378839Z",
     "iopub.status.idle": "2025-02-15T16:14:07.382733Z",
     "shell.execute_reply": "2025-02-15T16:14:07.381734Z"
    },
    "papermill": {
     "duration": 0.015797,
     "end_time": "2025-02-15T16:14:07.384405",
     "exception": false,
     "start_time": "2025-02-15T16:14:07.368608",
     "status": "completed"
    },
    "tags": []
   },
   "outputs": [],
   "source": [
    "#most_frequent_rtps = train_clean[train_clean[\"IsPassiveModeEnabled\"] == 1][\"RealTimeProtectionState\"].mode()[0]\n",
    "#print(\"Most Frequent RealTimeProtectionState when IsPassiveModeEnabled = 1:\", most_frequent_rtps)\n"
   ]
  },
  {
   "cell_type": "code",
   "execution_count": 36,
   "id": "a93fd31e",
   "metadata": {
    "execution": {
     "iopub.execute_input": "2025-02-15T16:14:07.403822Z",
     "iopub.status.busy": "2025-02-15T16:14:07.403414Z",
     "iopub.status.idle": "2025-02-15T16:14:07.407302Z",
     "shell.execute_reply": "2025-02-15T16:14:07.406393Z"
    },
    "papermill": {
     "duration": 0.015331,
     "end_time": "2025-02-15T16:14:07.408952",
     "exception": false,
     "start_time": "2025-02-15T16:14:07.393621",
     "status": "completed"
    },
    "tags": []
   },
   "outputs": [],
   "source": [
    "#import matplotlib.pyplot as plt  \n",
    "#import seaborn as sns  \n",
    "\n",
    "# Distribution of RAM\n",
    "#plt.figure(figsize=(8, 5))\n",
    "#sns.histplot(train_clean[\"TotalPhysicalRAMMB\"], bins=30, kde=True)\n",
    "#plt.title(\"Distribution of Total Physical RAM (MB)\")\n",
    "#plt.show()\n"
   ]
  },
  {
   "cell_type": "code",
   "execution_count": 37,
   "id": "2cb4d91a",
   "metadata": {
    "execution": {
     "iopub.execute_input": "2025-02-15T16:14:07.428582Z",
     "iopub.status.busy": "2025-02-15T16:14:07.428174Z",
     "iopub.status.idle": "2025-02-15T16:14:07.432055Z",
     "shell.execute_reply": "2025-02-15T16:14:07.431153Z"
    },
    "papermill": {
     "duration": 0.015599,
     "end_time": "2025-02-15T16:14:07.433863",
     "exception": false,
     "start_time": "2025-02-15T16:14:07.418264",
     "status": "completed"
    },
    "tags": []
   },
   "outputs": [],
   "source": [
    "#plt.figure(figsize=(10, 5))\n",
    "#sns.heatmap(train_df.isnull(), cmap=\"viridis\", cbar=False, yticklabels=False)\n",
    "#plt.title(\"Missing Values in the Dataset\")\n",
    "#plt.show()\n"
   ]
  },
  {
   "cell_type": "code",
   "execution_count": 38,
   "id": "c2ba9ada",
   "metadata": {
    "execution": {
     "iopub.execute_input": "2025-02-15T16:14:07.453805Z",
     "iopub.status.busy": "2025-02-15T16:14:07.453372Z",
     "iopub.status.idle": "2025-02-15T16:14:07.457379Z",
     "shell.execute_reply": "2025-02-15T16:14:07.456247Z"
    },
    "papermill": {
     "duration": 0.015943,
     "end_time": "2025-02-15T16:14:07.459289",
     "exception": false,
     "start_time": "2025-02-15T16:14:07.443346",
     "status": "completed"
    },
    "tags": []
   },
   "outputs": [],
   "source": [
    "#plt.figure(figsize=(12, 6))\n",
    "#sns.countplot(data=train_clean, x=\"OSVersion\", order=train_clean[\"OSVersion\"].value_counts().index[:10])\n",
    "#plt.xticks(rotation=90)\n",
    "#plt.title(\"Top 10 Operating System Versions in Dataset\")\n",
    "#plt.show()\n"
   ]
  }
 ],
 "metadata": {
  "kaggle": {
   "accelerator": "none",
   "dataSources": [
    {
     "databundleVersionId": 10592855,
     "sourceId": 90791,
     "sourceType": "competition"
    },
    {
     "isSourceIdPinned": true,
     "modelId": 242771,
     "modelInstanceId": 220995,
     "sourceId": 258552,
     "sourceType": "modelInstanceVersion"
    }
   ],
   "dockerImageVersionId": 30839,
   "isGpuEnabled": false,
   "isInternetEnabled": false,
   "language": "python",
   "sourceType": "notebook"
  },
  "kernelspec": {
   "display_name": "Python 3",
   "language": "python",
   "name": "python3"
  },
  "language_info": {
   "codemirror_mode": {
    "name": "ipython",
    "version": 3
   },
   "file_extension": ".py",
   "mimetype": "text/x-python",
   "name": "python",
   "nbconvert_exporter": "python",
   "pygments_lexer": "ipython3",
   "version": "3.10.12"
  },
  "papermill": {
   "default_parameters": {},
   "duration": 20.162061,
   "end_time": "2025-02-15T16:14:08.189039",
   "environment_variables": {},
   "exception": null,
   "input_path": "__notebook__.ipynb",
   "output_path": "__notebook__.ipynb",
   "parameters": {},
   "start_time": "2025-02-15T16:13:48.026978",
   "version": "2.6.0"
  }
 },
 "nbformat": 4,
 "nbformat_minor": 5
}
